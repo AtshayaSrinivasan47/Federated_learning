{
 "metadata": {
  "colab": {
   "provenance": []
  },
  "kernelspec": {
   "display_name": "Python 3",
   "name": "python3"
  }
 },
 "nbformat_minor": 0,
 "nbformat": 4,
 "cells": [
  {
   "cell_type": "markdown",
   "id": "63debb80-6c73-4abe-aec2-029dbd28bbe1",
   "metadata": {
    "name": "cell20",
    "collapsed": false
   },
   "source": "# Client Model Notebook\n\n## Introduction\nThis notebook is dedicated to the training and evaluation of a local client 1 model as part of a Federated Learning (FL) system. Federated Learning is a decentralized approach that allows multiple clients to collaboratively train a shared global model while keeping their data locally, thus enhancing privacy and security.\n\nIn this notebook, you will find the necessary steps to:\n1. Preprocess the local dataset specific to this client.\n2. Train a local model on the preprocessed data.\n3. Evaluate the performance of the local model.\n4. Prepare the trained model and relevant statistics for aggregation in the global model.\n\nBy the end of this notebook, the client model will be trained and evaluated, and its parameters will be ready for secure sharing with the central server for global aggregation.\n"
  },
  {
   "cell_type": "markdown",
   "id": "d0a9eeb9-574a-4df7-927f-89dc850ea0f4",
   "metadata": {
    "name": "cell21",
    "collapsed": false
   },
   "source": "## Importing necessary Libraries"
  },
  {
   "cell_type": "code",
   "source": "import pandas as pd\nimport io\nimport numpy as np\nimport joblib\nfrom sklearn.preprocessing import LabelEncoder,StandardScaler,label_binarize\nfrom sklearn.impute import SimpleImputer\nfrom sklearn.model_selection import train_test_split,StratifiedShuffleSplit\nimport matplotlib.pyplot as plt\nimport seaborn as sns\nimport tensorflow.keras\nfrom tensorflow.keras.models import Sequential\nfrom tensorflow.keras.layers import Dense, Activation\nfrom tensorflow.keras.callbacks import EarlyStopping\nfrom tensorflow.keras.optimizers import Adam\nfrom tensorflow.keras.callbacks import ModelCheckpoint\nimport re\nfrom sklearn.metrics import precision_score, recall_score, accuracy_score, f1_score\nfrom sklearn.preprocessing import OneHotEncoder\nfrom sklearn.metrics import confusion_matrix, classification_report\n\nfrom snowflake.snowpark.context import get_active_session\nsession = get_active_session()",
   "metadata": {
    "id": "phBlx51irJbf",
    "name": "cell1",
    "language": "python",
    "collapsed": false
   },
   "execution_count": 124,
   "outputs": [],
   "id": "ce110000-1111-2222-3333-ffffff000000"
  },
  {
   "cell_type": "markdown",
   "id": "6958bdc2-c16b-410a-b068-7c560b5486c4",
   "metadata": {
    "name": "cell22",
    "collapsed": false
   },
   "source": "## Fetching data stored in the database table - H1"
  },
  {
   "cell_type": "code",
   "source": "def fetch_from_table_data(session,table_name):\n    table_data = session.table(table_name)\n    return table_data\n\ndata_h1=fetch_from_table_data(session,\"H1\")",
   "metadata": {
    "id": "UlY1g5O9rhDM",
    "name": "cell2",
    "language": "python",
    "collapsed": false
   },
   "execution_count": 31,
   "outputs": [],
   "id": "ce110000-1111-2222-3333-ffffff000001"
  },
  {
   "cell_type": "markdown",
   "id": "6c87d279-2254-44e6-9744-698fb9e45740",
   "metadata": {
    "name": "cell23",
    "collapsed": false
   },
   "source": "## Function to create dataframe from the H1 database object"
  },
  {
   "cell_type": "code",
   "source": "def create_dataframe(data):\n    df=data.to_pandas()\n    return df\n\ndf_H1=create_dataframe(data_h1)\n",
   "metadata": {
    "colab": {
     "base_uri": "https://localhost:8080/",
     "height": 366
    },
    "id": "dMUWRR5dmIGo",
    "outputId": "b91da09e-e807-4537-ba32-b7d8886c7585",
    "name": "cell3",
    "language": "python",
    "collapsed": false
   },
   "execution_count": 35,
   "outputs": [
    {
     "output_type": "execute_result",
     "data": {
      "text/plain": [
       "NO                66724\n",
       "TIME              66724\n",
       "SOURCE            66724\n",
       "DESTINATION       66724\n",
       "PROTOCOL          66724\n",
       "LENGTH            66724\n",
       "INFO              66724\n",
       "TYPE              66724\n",
       "TYPE_OF_ATTACK    66724\n",
       "dtype: int64"
      ],
      "text/html": [
       "<div>\n",
       "<style scoped>\n",
       "    .dataframe tbody tr th:only-of-type {\n",
       "        vertical-align: middle;\n",
       "    }\n",
       "\n",
       "    .dataframe tbody tr th {\n",
       "        vertical-align: top;\n",
       "    }\n",
       "\n",
       "    .dataframe thead th {\n",
       "        text-align: right;\n",
       "    }\n",
       "</style>\n",
       "<table border=\"1\" class=\"dataframe\">\n",
       "  <thead>\n",
       "    <tr style=\"text-align: right;\">\n",
       "      <th></th>\n",
       "      <th>0</th>\n",
       "    </tr>\n",
       "  </thead>\n",
       "  <tbody>\n",
       "    <tr>\n",
       "      <th>NO</th>\n",
       "      <td>66724</td>\n",
       "    </tr>\n",
       "    <tr>\n",
       "      <th>TIME</th>\n",
       "      <td>66724</td>\n",
       "    </tr>\n",
       "    <tr>\n",
       "      <th>SOURCE</th>\n",
       "      <td>66724</td>\n",
       "    </tr>\n",
       "    <tr>\n",
       "      <th>DESTINATION</th>\n",
       "      <td>66724</td>\n",
       "    </tr>\n",
       "    <tr>\n",
       "      <th>PROTOCOL</th>\n",
       "      <td>66724</td>\n",
       "    </tr>\n",
       "    <tr>\n",
       "      <th>LENGTH</th>\n",
       "      <td>66724</td>\n",
       "    </tr>\n",
       "    <tr>\n",
       "      <th>INFO</th>\n",
       "      <td>66724</td>\n",
       "    </tr>\n",
       "    <tr>\n",
       "      <th>TYPE</th>\n",
       "      <td>66724</td>\n",
       "    </tr>\n",
       "    <tr>\n",
       "      <th>TYPE_OF_ATTACK</th>\n",
       "      <td>66724</td>\n",
       "    </tr>\n",
       "  </tbody>\n",
       "</table>\n",
       "</div><br><label><b>dtype:</b> int64</label>"
      ]
     },
     "metadata": {},
     "execution_count": 35
    }
   ],
   "id": "ce110000-1111-2222-3333-ffffff000002"
  },
  {
   "cell_type": "markdown",
   "id": "28faa4fb-70d7-4805-8044-2cf2c3bd9f75",
   "metadata": {
    "name": "cell24",
    "collapsed": false
   },
   "source": "## Function to preprocess feature variables (x)"
  },
  {
   "cell_type": "code",
   "source": "def preprocess_x(train_df,test_df):\n\n    # Drop unnecessary columns\n    train_df = train_df.drop(['NO', 'TIME', 'TYPE', 'SOURCE', 'DESTINATION'], axis=1)\n    test_df = test_df.drop(['NO', 'TIME', 'TYPE', 'SOURCE', 'DESTINATION'], axis=1)\n\n    # Analyze the 'INFO' column to create a new column based on the provided patterns\n\n    def determine_info_type(row):\n      # Initialize with default value\n      info_type = 'Normal'\n\n      rst_fin_pattern = r'RST|FIN'\n      psh_pattern = r'PSH'\n      syn_pattern = r'SYN'\n\n      protocols = ['DNS', 'LLC', 'UDP', 'DHCP', 'TLSv1.1', 'HTTP', 'TLSv1.2', 'OCSP']\n\n      if row['PROTOCOL'] == 'TCP' and row['LENGTH'] in [54, 66] and re.search(rst_fin_pattern, row['INFO']):\n          info_type = 'Nmap'\n      elif row['PROTOCOL'] == 'TCP' and re.search(psh_pattern, row['INFO']):\n          info_type = 'DoS'\n      elif row['PROTOCOL'] == 'TCP' and re.search(syn_pattern, row['INFO']):\n          info_type = 'Normal'\n      elif row['PROTOCOL'] == 'ICMP':\n          info_type = 'SMURF'\n      elif row['PROTOCOL'] == 'ARP':\n          info_type = 'ARP'\n      elif row['PROTOCOL'] in protocols:\n          info_type = 'Normal'\n\n      return info_type\n\n    # Apply the function to each row in the DataFrame\n    train_df['INFO_TYPE'] = train_df.apply(determine_info_type, axis=1)\n    test_df['INFO_TYPE'] = test_df.apply(determine_info_type, axis=1)\n\n    # One-hot encode PROTOCOL and INFO_Type\n    protocol_encoder = OneHotEncoder(sparse_output=False, handle_unknown='ignore')\n    info_type_encoder = OneHotEncoder(sparse_output=False, handle_unknown='ignore')\n\n    # Fit on train, transform on both train and test\n    protocol_encoder.fit(train_df[['PROTOCOL']])\n    one_hot_protocol_train = protocol_encoder.transform(train_df[['PROTOCOL']])\n    one_hot_protocol_test = protocol_encoder.transform(test_df[['PROTOCOL']])\n\n    info_type_encoder.fit(train_df[['INFO_TYPE']])\n    one_hot_info_type_train = info_type_encoder.transform(train_df[['INFO_TYPE']])\n    one_hot_info_type_test = info_type_encoder.transform(test_df[['INFO_TYPE']])\n\n    # Convert to DataFrame with appropriate column names\n    one_hot_protocol_train_df = pd.DataFrame(one_hot_protocol_train, columns=protocol_encoder.get_feature_names_out(['PROTOCOL']))\n    one_hot_protocol_test_df = pd.DataFrame(one_hot_protocol_test, columns=protocol_encoder.get_feature_names_out(['PROTOCOL']))\n\n    one_hot_info_type_train_df = pd.DataFrame(one_hot_info_type_train, columns=info_type_encoder.get_feature_names_out(['INFO_TYPE']))\n    one_hot_info_type_test_df = pd.DataFrame(one_hot_info_type_test, columns=info_type_encoder.get_feature_names_out(['INFO_TYPE']))\n\n    # Concatenate the one-hot encoded columns back to the DataFrames\n    final_train_df = pd.concat([train_df.reset_index(drop=True), one_hot_protocol_train_df, one_hot_info_type_train_df], axis=1)\n    final_test_df = pd.concat([test_df.reset_index(drop=True), one_hot_protocol_test_df, one_hot_info_type_test_df], axis=1)\n\n    # Drop the original columns\n    final_train_df.drop(['PROTOCOL', 'INFO_TYPE', 'INFO'], axis=1, inplace=True)\n    final_test_df.drop(['PROTOCOL', 'INFO_TYPE', 'INFO'], axis=1, inplace=True)\n    # final_csv_path = 'train.csv'\n    # final_train_df.to_csv(final_csv_path, index=False)\n    # final_csv_path = 'test.csv'\n    # final_test_df.to_csv(final_csv_path, index=False)\n    return final_train_df,final_test_df\n",
   "metadata": {
    "id": "GG-h_aegevVx",
    "name": "cell4",
    "language": "python",
    "collapsed": false
   },
   "execution_count": 115,
   "outputs": [],
   "id": "ce110000-1111-2222-3333-ffffff000003"
  },
  {
   "cell_type": "markdown",
   "id": "8f2548c3-12f0-4253-b281-e7690b330e8b",
   "metadata": {
    "name": "cell25",
    "collapsed": false
   },
   "source": "## Function to preprocess target variable. There are five true labels and converting them by using One-hot encoder"
  },
  {
   "cell_type": "code",
   "source": "def preprocess_y(y):\n    # Initialize the encoder\n    onehot_encoder = OneHotEncoder(sparse_output=False)\n\n    # Fit and transform y_train\n    y_encoded = onehot_encoder.fit_transform(y.values.reshape(-1, 1))\n\n    # Get the class names (original labels)\n    class_names = onehot_encoder.categories_[0]\n\n    # Return both the encoded labels and the class names\n    return y_encoded, class_names",
   "metadata": {
    "id": "2PJ70GFWh64y",
    "name": "cell5",
    "language": "python",
    "collapsed": false
   },
   "execution_count": 128,
   "outputs": [],
   "id": "ce110000-1111-2222-3333-ffffff000004"
  },
  {
   "cell_type": "markdown",
   "id": "00d745bf-aae5-4b3f-8393-12406856146e",
   "metadata": {
    "name": "cell26",
    "collapsed": false
   },
   "source": "## splitting train and validation dataset before preprocessing and passing them to preprocess function and returns the processed both feature and target test and train variables."
  },
  {
   "cell_type": "code",
   "source": "def data_stratified_split_train_test(df):\n    x=df.drop(['TYPE_OF_ATTACK'],axis=1)\n    y=df['TYPE_OF_ATTACK']\n\n    # Check protocol distribution\n    protocol_counts = df['PROTOCOL'].value_counts()\n    print(protocol_counts)  # Optional: To see the distribution\n\n    # Handle rare protocols if necessary\n    # For example, removing protocols with less than 2 occurrences\n    rare_protocols = protocol_counts[protocol_counts < 2].index\n    df_filtered = df[~df['PROTOCOL'].isin(rare_protocols)]\n\n    x_filtered = df_filtered.drop(['TYPE_OF_ATTACK'], axis=1)\n    y_filtered = df_filtered['TYPE_OF_ATTACK']\n\n    # Initialize StratifiedShuffleSplit\n    stratified_split = StratifiedShuffleSplit(n_splits=1, test_size=0.2, random_state=42)\n\n    # Perform the split\n    for train_index, test_index in stratified_split.split(x_filtered, df_filtered['PROTOCOL']):\n        x_train = x_filtered.iloc[train_index]\n        x_test = x_filtered.iloc[test_index]\n        y_train = y_filtered.iloc[train_index]\n        y_test = y_filtered.iloc[test_index]\n\n    return x_train,x_test,y_train,y_test\n\nx_train_raw,x_test_raw,y_train_raw,y_test_raw=data_stratified_split_train_test(df_H1)\n\nprint(x_train_raw.shape)\n# print(y_train_raw.shape)\n#preprocess the data\nx_train,x_test=preprocess_x(x_train_raw,x_test_raw)\n\n\nprint(x_train.shape)\nprint(x_test.shape)\n\n#preprocess the labels\ny_train, class_name=preprocess_y(y_train_raw)\ny_test,class_name=preprocess_y(y_test_raw)\n\nprint(class_name)",
   "metadata": {
    "id": "sXlQODNPsPDb",
    "colab": {
     "base_uri": "https://localhost:8080/"
    },
    "outputId": "ac10dcd6-a545-4a7f-c1b0-8bba81b38eb3",
    "name": "cell6",
    "language": "python",
    "collapsed": false
   },
   "execution_count": 131,
   "outputs": [
    {
     "output_type": "stream",
     "name": "stdout",
     "text": [
      "PROTOCOL\n",
      "ICMP       46752\n",
      "TCP        14070\n",
      "TLSv1.2     3551\n",
      "ARP         1415\n",
      "DNS          753\n",
      "TLSv1.1       95\n",
      "OCSP          68\n",
      "DHCP           9\n",
      "HTTP           8\n",
      "UDP            2\n",
      "LLC            1\n",
      "Name: count, dtype: int64\n",
      "(53378, 8)\n",
      "(53378,)\n"
     ]
    },
    {
     "output_type": "stream",
     "name": "stderr",
     "text": [
      "/usr/local/lib/python3.10/dist-packages/sklearn/preprocessing/_encoders.py:975: FutureWarning: `sparse` was renamed to `sparse_output` in version 1.2 and will be removed in 1.4. `sparse_output` is ignored unless you leave `sparse` to its default value.\n",
      "  warnings.warn(\n",
      "/usr/local/lib/python3.10/dist-packages/sklearn/preprocessing/_encoders.py:975: FutureWarning: `sparse` was renamed to `sparse_output` in version 1.2 and will be removed in 1.4. `sparse_output` is ignored unless you leave `sparse` to its default value.\n",
      "  warnings.warn(\n"
     ]
    },
    {
     "output_type": "stream",
     "name": "stdout",
     "text": [
      "(53378, 16)\n",
      "(13345, 16)\n",
      "['ARP Spoofing' 'DoS Attack' 'Nmap Port Scan' 'No Attack' 'Smurf Attack']\n"
     ]
    },
    {
     "output_type": "stream",
     "name": "stderr",
     "text": [
      "/usr/local/lib/python3.10/dist-packages/sklearn/preprocessing/_encoders.py:975: FutureWarning: `sparse` was renamed to `sparse_output` in version 1.2 and will be removed in 1.4. `sparse_output` is ignored unless you leave `sparse` to its default value.\n",
      "  warnings.warn(\n",
      "/usr/local/lib/python3.10/dist-packages/sklearn/preprocessing/_encoders.py:975: FutureWarning: `sparse` was renamed to `sparse_output` in version 1.2 and will be removed in 1.4. `sparse_output` is ignored unless you leave `sparse` to its default value.\n",
      "  warnings.warn(\n"
     ]
    }
   ],
   "id": "ce110000-1111-2222-3333-ffffff000005"
  },
  {
   "cell_type": "code",
   "source": [
    "print(x_train.shape)\n",
    "print(y_train.shape)\n",
    "# print(x.shape)\n",
    "# print(y.shape)"
   ],
   "metadata": {
    "colab": {
     "base_uri": "https://localhost:8080/"
    },
    "id": "BPnZuHsalRDB",
    "outputId": "9d825188-6543-4548-aac0-6932adfcf64c",
    "name": "cell7",
    "language": "python",
    "collapsed": false
   },
   "execution_count": 132,
   "outputs": [
    {
     "output_type": "stream",
     "name": "stdout",
     "text": [
      "(53378, 16)\n",
      "(53378, 5)\n"
     ]
    }
   ],
   "id": "ce110000-1111-2222-3333-ffffff000006"
  },
  {
   "cell_type": "markdown",
   "id": "d8df0ce1-fc2e-4ee7-87cf-2cd6949a171f",
   "metadata": {
    "name": "cell27",
    "collapsed": false
   },
   "source": "## Model building and training client with their local preprocessed data"
  },
  {
   "cell_type": "code",
   "source": "def create_model(input_dim):\n    model=Sequential([\n        Dense(64,input_dim=input_dim,activation='relu'),\n        Dense(32,activation='relu'),\n        Dense(5,activation='softmax')\n    ])\n    model.compile(optimizer=Adam(learning_rate=0.0005),loss='categorical_crossentropy',metrics=['accuracy'])\n    return model\n\ndef client_training(x_train, y_train, input_dim):\n    model = create_model(input_dim)\n    \n    # Set up a checkpoint to save the best model based on validation accuracy\n    checkpoint = ModelCheckpoint(\n        'client_model1.h5',  # filepath where the model will be saved\n        monitor='val_accuracy',  # monitor validation accuracy\n        verbose=1,  # verbosity mode\n        save_best_only=True,  # only save when the monitored metric improves\n        mode='max'  # max mode to save the model with the highest accuracy\n    )\n\n    # Early stopping to prevent overfitting\n    early_stopping = EarlyStopping(monitor='val_loss', patience=10, mode='min', verbose=1)\n\n    # Fit the model with validation data\n    model.fit(x_train, y_train, epochs=500, batch_size=32, verbose=1, validation_split=0.2, callbacks=[checkpoint,early_stopping])\n    \n    return model\n",
   "metadata": {
    "id": "JEqsvSm9tXvH",
    "name": "cell8",
    "language": "python",
    "collapsed": false
   },
   "execution_count": 133,
   "outputs": [],
   "id": "ce110000-1111-2222-3333-ffffff000007"
  },
  {
   "cell_type": "markdown",
   "id": "f0d7eaac-0c13-4a42-a2b6-88b437ba22c0",
   "metadata": {
    "name": "cell28",
    "collapsed": false
   },
   "source": "Saving client model1 as .h5 file"
  },
  {
   "cell_type": "code",
   "source": "client_model1=client_training(x_train,y_train,x_train.shape[1])",
   "metadata": {
    "colab": {
     "base_uri": "https://localhost:8080/"
    },
    "id": "0E9vk7hOtdCF",
    "outputId": "22986358-aa14-4733-b8ef-a4071bdddfc7",
    "name": "cell9",
    "language": "python",
    "collapsed": false
   },
   "execution_count": 134,
   "outputs": [
    {
     "output_type": "stream",
     "name": "stdout",
     "text": [
      "Epoch 1/10\n"
     ]
    },
    {
     "output_type": "stream",
     "name": "stderr",
     "text": [
      "/usr/local/lib/python3.10/dist-packages/keras/src/layers/core/dense.py:87: UserWarning: Do not pass an `input_shape`/`input_dim` argument to a layer. When using Sequential models, prefer using an `Input(shape)` object as the first layer in the model instead.\n",
      "  super().__init__(activity_regularizer=activity_regularizer, **kwargs)\n"
     ]
    },
    {
     "output_type": "stream",
     "name": "stdout",
     "text": [
      "\u001b[1m1669/1669\u001b[0m \u001b[32m━━━━━━━━━━━━━━━━━━━━\u001b[0m\u001b[37m\u001b[0m \u001b[1m3s\u001b[0m 1ms/step - accuracy: 0.9225 - loss: 0.6053\n",
      "Epoch 2/10\n",
      "\u001b[1m1669/1669\u001b[0m \u001b[32m━━━━━━━━━━━━━━━━━━━━\u001b[0m\u001b[37m\u001b[0m \u001b[1m3s\u001b[0m 2ms/step - accuracy: 0.9900 - loss: 0.0837\n",
      "Epoch 3/10\n",
      "\u001b[1m1669/1669\u001b[0m \u001b[32m━━━━━━━━━━━━━━━━━━━━\u001b[0m\u001b[37m\u001b[0m \u001b[1m4s\u001b[0m 1ms/step - accuracy: 0.9932 - loss: 0.0426\n",
      "Epoch 4/10\n",
      "\u001b[1m1669/1669\u001b[0m \u001b[32m━━━━━━━━━━━━━━━━━━━━\u001b[0m\u001b[37m\u001b[0m \u001b[1m3s\u001b[0m 1ms/step - accuracy: 0.9936 - loss: 0.0230\n",
      "Epoch 5/10\n",
      "\u001b[1m1669/1669\u001b[0m \u001b[32m━━━━━━━━━━━━━━━━━━━━\u001b[0m\u001b[37m\u001b[0m \u001b[1m2s\u001b[0m 1ms/step - accuracy: 0.9940 - loss: 0.0280\n",
      "Epoch 6/10\n",
      "\u001b[1m1669/1669\u001b[0m \u001b[32m━━━━━━━━━━━━━━━━━━━━\u001b[0m\u001b[37m\u001b[0m \u001b[1m3s\u001b[0m 2ms/step - accuracy: 0.9943 - loss: 0.0419\n",
      "Epoch 7/10\n",
      "\u001b[1m1669/1669\u001b[0m \u001b[32m━━━━━━━━━━━━━━━━━━━━\u001b[0m\u001b[37m\u001b[0m \u001b[1m3s\u001b[0m 2ms/step - accuracy: 0.9975 - loss: 0.0126\n",
      "Epoch 8/10\n",
      "\u001b[1m1669/1669\u001b[0m \u001b[32m━━━━━━━━━━━━━━━━━━━━\u001b[0m\u001b[37m\u001b[0m \u001b[1m4s\u001b[0m 1ms/step - accuracy: 0.9946 - loss: 0.0319\n",
      "Epoch 9/10\n",
      "\u001b[1m1669/1669\u001b[0m \u001b[32m━━━━━━━━━━━━━━━━━━━━\u001b[0m\u001b[37m\u001b[0m \u001b[1m2s\u001b[0m 1ms/step - accuracy: 0.9992 - loss: 0.0029\n",
      "Epoch 10/10\n",
      "\u001b[1m1669/1669\u001b[0m \u001b[32m━━━━━━━━━━━━━━━━━━━━\u001b[0m\u001b[37m\u001b[0m \u001b[1m3s\u001b[0m 2ms/step - accuracy: 0.9986 - loss: 0.0080\n"
     ]
    },
    {
     "output_type": "stream",
     "name": "stderr",
     "text": [
      "WARNING:absl:You are saving your model as an HDF5 file via `model.save()` or `keras.saving.save_model(model)`. This file format is considered legacy. We recommend using instead the native Keras format, e.g. `model.save('my_model.keras')` or `keras.saving.save_model(model, 'my_model.keras')`. \n"
     ]
    }
   ],
   "id": "ce110000-1111-2222-3333-ffffff000008"
  },
  {
   "cell_type": "markdown",
   "id": "6b8c28bc-5c08-43cb-9497-ea854337c6ae",
   "metadata": {
    "name": "cell29",
    "collapsed": false
   },
   "source": "## creating a stage to store the client model 1 in the internal stage"
  },
  {
   "cell_type": "code",
   "id": "147f1d99-e364-44fc-95c1-c82e71c75694",
   "metadata": {
    "language": "python",
    "name": "cell32",
    "collapsed": false
   },
   "outputs": [],
   "source": "# Step 4: Define the version number\nversion = \"v3\"  # Increment this version number as needed",
   "execution_count": null
  },
  {
   "cell_type": "code",
   "id": "e6c45869-d7b6-4688-829d-470de94352f9",
   "metadata": {
    "language": "python",
    "name": "cell17",
    "collapsed": false
   },
   "outputs": [],
   "source": "client_model1.save(f'client_model1_{version}.h5')",
   "execution_count": null
  },
  {
   "cell_type": "code",
   "id": "aef3a986-82d0-4501-a966-2c6aa8bd71f7",
   "metadata": {
    "language": "python",
    "name": "cell18",
    "collapsed": false
   },
   "outputs": [],
   "source": "# Upload model.h5 file to Snowflake stage\nsession.file.put(f'client_model1.h5', f\"@client1_model_stage/{version}/\")",
   "execution_count": null
  },
  {
   "cell_type": "code",
   "source": [
    "client_model1.summary()"
   ],
   "metadata": {
    "colab": {
     "base_uri": "https://localhost:8080/",
     "height": 245
    },
    "id": "0pyI1TfVtyBz",
    "outputId": "6b10f037-22a1-4ac9-9cd0-c868c0ab6cf5",
    "name": "cell10",
    "language": "python",
    "collapsed": false
   },
   "execution_count": 135,
   "outputs": [
    {
     "output_type": "display_data",
     "data": {
      "text/plain": [
       "\u001b[1mModel: \"sequential_6\"\u001b[0m\n"
      ],
      "text/html": [
       "<pre style=\"white-space:pre;overflow-x:auto;line-height:normal;font-family:Menlo,'DejaVu Sans Mono',consolas,'Courier New',monospace\"><span style=\"font-weight: bold\">Model: \"sequential_6\"</span>\n",
       "</pre>\n"
      ]
     },
     "metadata": {}
    },
    {
     "output_type": "display_data",
     "data": {
      "text/plain": [
       "┏━━━━━━━━━━━━━━━━━━━━━━━━━━━━━━━━━━━━━━┳━━━━━━━━━━━━━━━━━━━━━━━━━━━━━┳━━━━━━━━━━━━━━━━━┓\n",
       "┃\u001b[1m \u001b[0m\u001b[1mLayer (type)                        \u001b[0m\u001b[1m \u001b[0m┃\u001b[1m \u001b[0m\u001b[1mOutput Shape               \u001b[0m\u001b[1m \u001b[0m┃\u001b[1m \u001b[0m\u001b[1m        Param #\u001b[0m\u001b[1m \u001b[0m┃\n",
       "┡━━━━━━━━━━━━━━━━━━━━━━━━━━━━━━━━━━━━━━╇━━━━━━━━━━━━━━━━━━━━━━━━━━━━━╇━━━━━━━━━━━━━━━━━┩\n",
       "│ dense_18 (\u001b[38;5;33mDense\u001b[0m)                     │ (\u001b[38;5;45mNone\u001b[0m, \u001b[38;5;34m64\u001b[0m)                  │           \u001b[38;5;34m1,088\u001b[0m │\n",
       "├──────────────────────────────────────┼─────────────────────────────┼─────────────────┤\n",
       "│ dense_19 (\u001b[38;5;33mDense\u001b[0m)                     │ (\u001b[38;5;45mNone\u001b[0m, \u001b[38;5;34m32\u001b[0m)                  │           \u001b[38;5;34m2,080\u001b[0m │\n",
       "├──────────────────────────────────────┼─────────────────────────────┼─────────────────┤\n",
       "│ dense_20 (\u001b[38;5;33mDense\u001b[0m)                     │ (\u001b[38;5;45mNone\u001b[0m, \u001b[38;5;34m5\u001b[0m)                   │             \u001b[38;5;34m165\u001b[0m │\n",
       "└──────────────────────────────────────┴─────────────────────────────┴─────────────────┘\n"
      ],
      "text/html": [
       "<pre style=\"white-space:pre;overflow-x:auto;line-height:normal;font-family:Menlo,'DejaVu Sans Mono',consolas,'Courier New',monospace\">┏━━━━━━━━━━━━━━━━━━━━━━━━━━━━━━━━━━━━━━┳━━━━━━━━━━━━━━━━━━━━━━━━━━━━━┳━━━━━━━━━━━━━━━━━┓\n",
       "┃<span style=\"font-weight: bold\"> Layer (type)                         </span>┃<span style=\"font-weight: bold\"> Output Shape                </span>┃<span style=\"font-weight: bold\">         Param # </span>┃\n",
       "┡━━━━━━━━━━━━━━━━━━━━━━━━━━━━━━━━━━━━━━╇━━━━━━━━━━━━━━━━━━━━━━━━━━━━━╇━━━━━━━━━━━━━━━━━┩\n",
       "│ dense_18 (<span style=\"color: #0087ff; text-decoration-color: #0087ff\">Dense</span>)                     │ (<span style=\"color: #00d7ff; text-decoration-color: #00d7ff\">None</span>, <span style=\"color: #00af00; text-decoration-color: #00af00\">64</span>)                  │           <span style=\"color: #00af00; text-decoration-color: #00af00\">1,088</span> │\n",
       "├──────────────────────────────────────┼─────────────────────────────┼─────────────────┤\n",
       "│ dense_19 (<span style=\"color: #0087ff; text-decoration-color: #0087ff\">Dense</span>)                     │ (<span style=\"color: #00d7ff; text-decoration-color: #00d7ff\">None</span>, <span style=\"color: #00af00; text-decoration-color: #00af00\">32</span>)                  │           <span style=\"color: #00af00; text-decoration-color: #00af00\">2,080</span> │\n",
       "├──────────────────────────────────────┼─────────────────────────────┼─────────────────┤\n",
       "│ dense_20 (<span style=\"color: #0087ff; text-decoration-color: #0087ff\">Dense</span>)                     │ (<span style=\"color: #00d7ff; text-decoration-color: #00d7ff\">None</span>, <span style=\"color: #00af00; text-decoration-color: #00af00\">5</span>)                   │             <span style=\"color: #00af00; text-decoration-color: #00af00\">165</span> │\n",
       "└──────────────────────────────────────┴─────────────────────────────┴─────────────────┘\n",
       "</pre>\n"
      ]
     },
     "metadata": {}
    },
    {
     "output_type": "display_data",
     "data": {
      "text/plain": [
       "\u001b[1m Total params: \u001b[0m\u001b[38;5;34m10,001\u001b[0m (39.07 KB)\n"
      ],
      "text/html": [
       "<pre style=\"white-space:pre;overflow-x:auto;line-height:normal;font-family:Menlo,'DejaVu Sans Mono',consolas,'Courier New',monospace\"><span style=\"font-weight: bold\"> Total params: </span><span style=\"color: #00af00; text-decoration-color: #00af00\">10,001</span> (39.07 KB)\n",
       "</pre>\n"
      ]
     },
     "metadata": {}
    },
    {
     "output_type": "display_data",
     "data": {
      "text/plain": [
       "\u001b[1m Trainable params: \u001b[0m\u001b[38;5;34m3,333\u001b[0m (13.02 KB)\n"
      ],
      "text/html": [
       "<pre style=\"white-space:pre;overflow-x:auto;line-height:normal;font-family:Menlo,'DejaVu Sans Mono',consolas,'Courier New',monospace\"><span style=\"font-weight: bold\"> Trainable params: </span><span style=\"color: #00af00; text-decoration-color: #00af00\">3,333</span> (13.02 KB)\n",
       "</pre>\n"
      ]
     },
     "metadata": {}
    },
    {
     "output_type": "display_data",
     "data": {
      "text/plain": [
       "\u001b[1m Non-trainable params: \u001b[0m\u001b[38;5;34m0\u001b[0m (0.00 B)\n"
      ],
      "text/html": [
       "<pre style=\"white-space:pre;overflow-x:auto;line-height:normal;font-family:Menlo,'DejaVu Sans Mono',consolas,'Courier New',monospace\"><span style=\"font-weight: bold\"> Non-trainable params: </span><span style=\"color: #00af00; text-decoration-color: #00af00\">0</span> (0.00 B)\n",
       "</pre>\n"
      ]
     },
     "metadata": {}
    },
    {
     "output_type": "display_data",
     "data": {
      "text/plain": [
       "\u001b[1m Optimizer params: \u001b[0m\u001b[38;5;34m6,668\u001b[0m (26.05 KB)\n"
      ],
      "text/html": [
       "<pre style=\"white-space:pre;overflow-x:auto;line-height:normal;font-family:Menlo,'DejaVu Sans Mono',consolas,'Courier New',monospace\"><span style=\"font-weight: bold\"> Optimizer params: </span><span style=\"color: #00af00; text-decoration-color: #00af00\">6,668</span> (26.05 KB)\n",
       "</pre>\n"
      ]
     },
     "metadata": {}
    }
   ],
   "id": "ce110000-1111-2222-3333-ffffff000009"
  },
  {
   "cell_type": "markdown",
   "source": "## Extracting the weights and converting them into a format that can be serialized to JSON, typically as lists of numbers since JSON does not directly support NumPy arrays",
   "metadata": {
    "id": "EiWgA66oFCiC",
    "name": "cell11",
    "collapsed": false
   },
   "id": "ce110000-1111-2222-3333-ffffff000010"
  },
  {
   "cell_type": "code",
   "source": "import json\n\n# Extract the configuration of the model\nmodel_config = client_model1.get_config()\n\n# Prepare a dictionary to store the weights\nmodel_weights = {}\n\n# Iterate over each layer in the model\nfor layer in client_model1.layers:\n    weights = layer.get_weights()  # Get the weights of the current layer\n    layer_weights = []  # List to store the current layer's weights\n\n    print(f'Layer: {layer.name}')\n\n    for i, weight_array in enumerate(weights):\n        print(f\"  Weights {i+1} shape: {weight_array.shape}\")\n        print(weight_array)\n\n        # Convert each weight array to a list and append it to the layer's weights\n        layer_weights.append(weight_array.tolist())\n\n    # Add the layer's weights to the model_weights dictionary\n    model_weights[layer.name] = layer_weights\n\n# Save the weights to a JSON file\nwith open(f'model_weights1_{version}.json', 'w') as json_file:\n    json.dump(model_weights, json_file, indent=2)\n\nprint(f\"Weights have been saved to model_weights1_{version}.json\")\n",
   "metadata": {
    "colab": {
     "base_uri": "https://localhost:8080/"
    },
    "id": "8ZJktCEUt55G",
    "outputId": "6ee7f64c-2bb7-42a0-af6c-c13295da750a",
    "name": "cell12",
    "language": "python",
    "collapsed": false
   },
   "execution_count": 136,
   "outputs": [
    {
     "output_type": "stream",
     "name": "stdout",
     "text": [
      "Layer: dense_18\n",
      "  Weights 1 shape: (16, 64)\n",
      "[[-0.03789141 -0.1244804  -0.10342157 ... -0.04763123 -0.29336765\n",
      "  -0.11359357]\n",
      " [-2.352438    0.13506874  0.24884963 ...  0.02054685  1.337237\n",
      "  -0.9839035 ]\n",
      " [ 0.50782776 -0.25560904 -0.05841206 ...  0.22116587  4.2209334\n",
      "  -0.13313748]\n",
      " ...\n",
      " [-0.58039993  0.04417628 -0.06745367 ... -0.13015154 -7.556426\n",
      "   0.25392142]\n",
      " [ 1.8361647   0.22997493 -0.19725437 ... -0.1456397   9.167698\n",
      "   0.25056905]\n",
      " [-3.047252    0.19659021  0.0214805  ... -0.03398566 -3.7265656\n",
      "  -0.39033833]]\n",
      "  Weights 2 shape: (64,)\n",
      "[-2.534441    0.          0.          0.         -0.0165345   0.\n",
      " -0.06005323  1.3115125  -0.15502629  0.          0.         -0.6135115\n",
      " -2.8224816   0.32569325 -0.05170219  0.7435852   0.         -2.5749466\n",
      "  0.         -0.04064778  2.7552629   0.          0.          0.\n",
      " -1.1129994  -0.06394215 -0.06163284  0.          0.          0.18423754\n",
      " -1.2462411   0.         -0.02287847 -1.0705413  -0.5765401   2.5115027\n",
      " -0.8590445   0.04905991  0.          0.          0.         -0.2751624\n",
      "  0.          0.          2.4651275   0.         -0.73447406 -0.44965562\n",
      "  0.         -1.0746646   2.4730897   1.0399587  -0.4061782   1.37672\n",
      "  0.         -0.2827193  -1.3121748   0.         -1.8425483   0.\n",
      "  0.          0.         -2.169895   -0.44213244]\n",
      "Layer: dense_19\n",
      "  Weights 1 shape: (64, 32)\n",
      "[[-0.5437452  -0.17198396 -0.59872204 ... -0.2240538   0.0873962\n",
      "   0.07554767]\n",
      " [-0.02659583  0.23989558 -0.17820269 ...  0.09881997  0.03858346\n",
      "  -0.17767888]\n",
      " [-0.2004757  -0.24501854  0.20024115 ... -0.08748525 -0.18134665\n",
      "  -0.14672208]\n",
      " ...\n",
      " [-0.21136582  0.24909264 -0.18731421 ...  0.18121529  0.17370373\n",
      "  -0.0834443 ]\n",
      " [-0.29548636 -0.51049566 -0.8849609  ... -0.33925506 -0.20815122\n",
      "  -0.32804245]\n",
      " [-0.02769087  0.02942514  0.02812896 ... -0.08748871 -0.02030855\n",
      "  -0.0177179 ]]\n",
      "  Weights 2 shape: (32,)\n",
      "[-0.3269759  -0.3621076   2.7366743   1.7480421   1.8703507  -0.4671813\n",
      " -1.6217546   0.69670457 -0.28871346 -0.28284732  0.6412522  -0.04583072\n",
      " -0.11076444  1.1228607  -0.282467   -0.33998626 -0.72663736 -0.43956375\n",
      " -0.2848006   0.24988541  1.328488    0.9209552   1.5523398  -0.78940815\n",
      "  0.          0.69341415 -0.09008357 -0.3704505  -0.2859335   0.45666042\n",
      "  0.         -0.25463608]\n",
      "Layer: dense_20\n",
      "  Weights 1 shape: (32, 5)\n",
      "[[-3.01610589e-01 -2.61705164e-02 -7.01396093e-02 -1.07394658e-01\n",
      "  -3.40728343e-01]\n",
      " [-5.34130633e-01 -1.80723101e-01 -7.06005096e-02 -3.21202934e-01\n",
      "  -8.83821677e-03]\n",
      " [-1.13919306e+00 -2.65878707e-01 -1.31218958e+00 -6.95884377e-02\n",
      "   1.16738296e+00]\n",
      " [-2.99675018e-01 -2.00446978e-01 -8.59858394e-01 -3.51242945e-02\n",
      "   4.94383484e-01]\n",
      " [-2.15560985e+00 -1.10529983e+00  1.93339920e+00 -1.13869107e+00\n",
      "   1.55755147e-01]\n",
      " [ 7.42801368e-01 -1.54074395e+00  4.42304127e-02 -1.82247028e-01\n",
      "  -8.07595074e-01]\n",
      " [-3.51531953e-01 -1.53382584e-01 -8.35564971e-01  1.70383826e-01\n",
      "  -4.00330925e+00]\n",
      " [ 2.85594575e-02 -8.14373910e-01 -2.13322163e-01  1.92499220e-01\n",
      "   7.00904369e-01]\n",
      " [-2.66902119e-01 -1.90300882e-01  2.50533372e-01 -1.72981545e-01\n",
      "  -1.99561059e-01]\n",
      " [-1.35741845e-01  2.74319023e-01  9.19747576e-02 -3.38940412e-01\n",
      "  -1.30643547e-01]\n",
      " [-1.61168680e-01  3.84281599e-03 -3.70932035e-02 -3.20647955e-01\n",
      "   1.01471759e-01]\n",
      " [ 3.19153816e-01 -3.37291956e-01  2.06701800e-01  6.57210797e-02\n",
      "   8.61057863e-02]\n",
      " [-4.06214595e-01 -5.46082258e-01  2.65584618e-01  3.61151189e-01\n",
      "  -8.58117104e-01]\n",
      " [ 1.11684990e+00 -2.25318694e+00 -2.23466086e+00 -1.90582067e-01\n",
      "  -7.02342212e-01]\n",
      " [ 2.42138311e-01 -1.70034811e-01  7.96388909e-02  1.98958352e-01\n",
      "   2.27702022e-01]\n",
      " [-2.02833191e-01  2.15638220e-01 -1.02346444e+00  7.50306621e-02\n",
      "  -9.83856142e-01]\n",
      " [-1.97927475e-01 -1.65262781e-02 -9.29838512e-03  2.64269620e-01\n",
      "  -3.87401342e-01]\n",
      " [-1.24569401e-01 -5.99869750e-02  2.79033244e-01 -5.39380670e-01\n",
      "  -5.21243095e-01]\n",
      " [-3.57416064e-01 -8.93266574e-02  2.96247721e-01 -4.48405772e-01\n",
      "  -2.02282757e-01]\n",
      " [-7.88629413e-01 -2.37533286e-01  8.33999589e-02 -9.67034325e-02\n",
      "   5.15759997e-02]\n",
      " [-1.16391778e+00 -7.54820168e-01 -3.40507865e-01 -6.71246469e-01\n",
      "   1.76201022e+00]\n",
      " [ 5.97327612e-02 -9.13187042e-02 -1.93609625e-01  1.22047896e-02\n",
      "   2.43253663e-01]\n",
      " [-3.79559427e-01 -3.42814624e-01 -3.66004199e-01 -8.83403003e-01\n",
      "   1.32442868e+00]\n",
      " [-6.11489713e-01 -1.00219902e-02 -1.23260468e-01  5.53285539e-01\n",
      "  -1.60616502e-01]\n",
      " [-9.48872864e-02 -1.49125338e-01 -2.04604045e-01 -3.21283221e-01\n",
      "   3.68753076e-01]\n",
      " [-8.57995093e-01  4.42941725e-01 -8.52065682e-01  5.29779792e-01\n",
      "   1.22267209e-01]\n",
      " [-2.03879878e-01  1.76615134e-01 -3.88738401e-02 -2.82976359e-01\n",
      "   8.70195329e-02]\n",
      " [-1.69539905e+00 -3.80726367e-01  5.49633324e-01 -2.62177706e-01\n",
      "  -1.14082003e+00]\n",
      " [-4.26900446e-01  1.27161637e-01 -2.60353852e-02  7.04288557e-02\n",
      "  -4.19748336e-01]\n",
      " [ 1.42231655e+00 -1.39755189e-01  9.76696610e-03 -6.69578791e-01\n",
      "  -1.72980356e+00]\n",
      " [ 6.86804056e-02 -4.28865552e-02  2.51190603e-01 -3.56461704e-02\n",
      "  -3.60906601e-01]\n",
      " [ 3.73163447e-02  1.24800906e-01 -1.33890167e-01  1.65393591e-01\n",
      "  -2.94316798e-01]]\n",
      "  Weights 2 shape: (5,)\n",
      "[-3.0549219  -0.774751   -1.1427205  -1.8458757   0.18170495]\n",
      "Weights have been saved to model_weights.json\n"
     ]
    }
   ],
   "id": "ce110000-1111-2222-3333-ffffff000011"
  },
  {
   "cell_type": "markdown",
   "id": "3f1ace38-f718-4d7c-ade4-4330f2dd048c",
   "metadata": {
    "name": "cell30",
    "collapsed": false
   },
   "source": "## Model weights are stored as JSON in the internal stage."
  },
  {
   "cell_type": "code",
   "id": "b56e28fa-b51c-4421-be75-891b68acface",
   "metadata": {
    "language": "python",
    "name": "cell19",
    "collapsed": false
   },
   "outputs": [],
   "source": "# Upload model weights JSON file to Snowflake stage\nsession.file.put(f'model_weights1_{version}.json', f\"@client1_model_stage/{version}/\")",
   "execution_count": null
  },
  {
   "cell_type": "markdown",
   "id": "4c635f72-b1f9-4448-95a7-ae16bf563b60",
   "metadata": {
    "name": "cell31",
    "collapsed": false
   },
   "source": "## Predicting the quality of our model training and using accuracy, recall, precision, recall, ROC-AUC metrics based on the predictional probability."
  },
  {
   "cell_type": "code",
   "source": [
    "y_pred_prob=client_model1.predict(x_test)\n",
    "# For sparse categorical crossentropy, we need to use argmax to get class labels\n",
    "y_pred = np.argmax(y_pred_prob, axis=1)\n",
    "from sklearn.preprocessing import label_binarize\n",
    "n_classes=y_pred_prob.shape[1]\n",
    "y1_test_binarized=label_binarize(y_test,classes=np.arange(n_classes))\n",
    "\n",
    "from sklearn.metrics import roc_curve, auc\n",
    "import matplotlib.pyplot as plt\n",
    "fpr=dict()\n",
    "tpr=dict()\n",
    "roc_auc=dict()\n",
    "\n",
    "for i in range(n_classes):\n",
    "    fpr[i],tpr[i],_=roc_curve(y1_test_binarized[:,i],y_pred_prob[:,i])\n",
    "    roc_auc[i]=auc(fpr[i],tpr[i])\n",
    "\n",
    "plt.figure()\n",
    "for i in range(n_classes):\n",
    "    plt.plot(fpr[i],tpr[i],label=f'class {i} (AUC={roc_auc[i]:0.2f})')\n",
    "\n",
    "plt.plot([0, 1], [0, 1], 'k--')\n",
    "plt.xlim([0.0, 1.0])\n",
    "plt.ylim([0.0, 1.05])\n",
    "plt.xlabel('False Positive Rate')\n",
    "plt.ylabel('True Positive Rate')\n",
    "plt.title('Receiver Operating Characteristic for Multi-Class')\n",
    "plt.legend(loc='lower right')\n",
    "plt.show()"
   ],
   "metadata": {
    "colab": {
     "base_uri": "https://localhost:8080/",
     "height": 490
    },
    "id": "s0zzo-7CuCvF",
    "outputId": "93289665-d926-48e9-d6d8-96614842aec5",
    "name": "cell13",
    "language": "python",
    "collapsed": false
   },
   "execution_count": 137,
   "outputs": [
    {
     "output_type": "stream",
     "name": "stdout",
     "text": [
      "\u001b[1m418/418\u001b[0m \u001b[32m━━━━━━━━━━━━━━━━━━━━\u001b[0m\u001b[37m\u001b[0m \u001b[1m1s\u001b[0m 2ms/step\n"
     ]
    },
    {
     "output_type": "display_data",
     "data": {
      "text/plain": [
       "<Figure size 640x480 with 1 Axes>"
      ],
      "image/png": "[encoded data removed]"
     },
     "metadata": {}
    }
   ],
   "id": "ce110000-1111-2222-3333-ffffff000012"
  },
  {
   "cell_type": "code",
   "source": [
    "# Ensure y_test is in multiclass format (if it was one-hot encoded)\n",
    "if y_test.ndim > 1 and y_test.shape[1] > 1:\n",
    "    y_test = np.argmax(y_test, axis=1)\n",
    "\n",
    "# Ensure y_pred is in multiclass format (if it was one-hot encoded)\n",
    "if y_pred.ndim > 1 and y_pred.shape[1] > 1:\n",
    "    y_pred = np.argmax(y_pred, axis=1)\n",
    "\n",
    "# Generate the confusion matrix\n",
    "conf_matrix = confusion_matrix(y_test, y_pred)\n",
    "\n",
    "# Generate a classification report\n",
    "class_report = classification_report(y_test, y_pred, target_names=[f'Class {i}' for i in range(5)], zero_division=0)\n",
    "\n",
    "conf_matrix, class_report"
   ],
   "metadata": {
    "colab": {
     "base_uri": "https://localhost:8080/"
    },
    "id": "qLKLyzpWuRJJ",
    "outputId": "8ca11ef4-71d5-476e-d75e-b5fb8e15dee4",
    "name": "cell14",
    "language": "python",
    "collapsed": false
   },
   "execution_count": 138,
   "outputs": [
    {
     "output_type": "execute_result",
     "data": {
      "text/plain": [
       "(array([[ 283,    0,    0,    0,    0],\n",
       "        [   0,   25,    0,   50,   13],\n",
       "        [   0,    0,  800,    0,    0],\n",
       "        [   0,   13,    0, 2810,    0],\n",
       "        [   0,    9,    0,    0, 9342]]),\n",
       " '              precision    recall  f1-score   support\\n\\n     Class 0       1.00      1.00      1.00       283\\n     Class 1       0.53      0.28      0.37        88\\n     Class 2       1.00      1.00      1.00       800\\n     Class 3       0.98      1.00      0.99      2823\\n     Class 4       1.00      1.00      1.00      9351\\n\\n    accuracy                           0.99     13345\\n   macro avg       0.90      0.86      0.87     13345\\nweighted avg       0.99      0.99      0.99     13345\\n')"
      ]
     },
     "metadata": {},
     "execution_count": 138
    }
   ],
   "id": "ce110000-1111-2222-3333-ffffff000013"
  },
  {
   "cell_type": "code",
   "source": [
    "\n",
    "import seaborn as sns\n",
    "# Plot confusion matrix\n",
    "plt.figure(figsize=(4, 2))\n",
    "sns.heatmap(conf_matrix, annot=True, fmt='d', cmap='Blues', cbar=False,\n",
    "            xticklabels=[f'Class {i}' for i in range(n_classes)],\n",
    "            yticklabels=[f'Class {i}' for i in range(n_classes)])\n",
    "plt.xlabel('Predicted Label')\n",
    "plt.ylabel('True Label')\n",
    "plt.title('Confusion Matrix')\n",
    "plt.show()"
   ],
   "metadata": {
    "colab": {
     "base_uri": "https://localhost:8080/",
     "height": 256
    },
    "id": "-nL0iwMguV2Q",
    "outputId": "0d2670b6-777d-47c6-9f82-4cb407202485",
    "name": "cell15",
    "language": "python",
    "collapsed": false
   },
   "execution_count": 139,
   "outputs": [
    {
     "output_type": "display_data",
     "data": {
      "text/plain": [
       "<Figure size 400x200 with 1 Axes>"
      ],
      "image/png": "[encoded data removed]"
     },
     "metadata": {}
    }
   ],
   "id": "ce110000-1111-2222-3333-ffffff000014"
  },
  {
   "cell_type": "code",
   "source": "# Calculate evaluation metrics\naccuracy = accuracy_score(y_test, y_pred)\nprecision = precision_score(y_test, y_pred, average='weighted', zero_division=1)\nrecall = recall_score(y_test, y_pred, average='weighted')\nf1 = f1_score(y_test, y_pred, average='weighted')\n\n# Print evaluation metrics\nprint(f\"Accuracy: {accuracy:.4f}\")\nprint(f\"Precision: {precision:.4f}\")\nprint(f\"Recall: {recall:.4f}\")\nprint(f\"F1 Score: {f1:.4f}\")",
   "metadata": {
    "colab": {
     "base_uri": "https://localhost:8080/"
    },
    "id": "WUBAqg_XuZqy",
    "outputId": "49bc9166-1c57-463f-8364-f96043d5a619",
    "name": "cell16",
    "language": "python",
    "collapsed": false
   },
   "execution_count": 140,
   "outputs": [
    {
     "output_type": "stream",
     "name": "stdout",
     "text": [
      "Accuracy: 0.9936\n",
      "Precision: 0.9922\n",
      "Recall: 0.9936\n",
      "F1 Score: 0.9927\n"
     ]
    }
   ],
   "id": "ce110000-1111-2222-3333-ffffff000015"
  }
 ]
}