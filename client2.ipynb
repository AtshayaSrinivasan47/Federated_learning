{
 "metadata": {
  "colab": {
   "provenance": []
  },
  "kernelspec": {
   "display_name": "Python 3",
   "name": "python3"
  }
 },
 "nbformat_minor": 0,
 "nbformat": 4,
 "cells": [
  {
   "cell_type": "code",
   "source": "import pandas as pd\nimport io\nimport numpy as np\n# import joblib\nfrom sklearn.preprocessing import LabelEncoder,StandardScaler,label_binarize\nfrom sklearn.impute import SimpleImputer\nfrom sklearn.model_selection import train_test_split,StratifiedShuffleSplit\nimport matplotlib.pyplot as plt\nimport seaborn as sns\nimport tensorflow.keras\nfrom tensorflow.keras.models import Sequential\nfrom tensorflow.keras.layers import Dense, Activation\nfrom tensorflow.keras.callbacks import EarlyStopping\nfrom tensorflow.keras.optimizers import Adam\nfrom tensorflow.keras.callbacks import ModelCheckpoint\nimport re\nfrom sklearn.metrics import precision_score, recall_score, accuracy_score, f1_score\nfrom sklearn.preprocessing import OneHotEncoder\nfrom sklearn.metrics import confusion_matrix, classification_report\n\nfrom snowflake.snowpark.context import get_active_session\nsession = get_active_session()",
   "metadata": {
    "id": "phBlx51irJbf",
    "name": "cell1",
    "language": "python",
    "collapsed": false
   },
   "execution_count": null,
   "outputs": [],
   "id": "ce110000-1111-2222-3333-ffffff000000"
  },
  {
   "cell_type": "code",
   "source": "def fetch_from_table_data(session,table_name):\n    table_data = session.table(table_name)\n    return table_data\n\ndata_h2=fetch_from_table_data(session,\"H2\")",
   "metadata": {
    "id": "UlY1g5O9rhDM",
    "name": "cell2",
    "language": "python",
    "collapsed": false
   },
   "execution_count": null,
   "outputs": [],
   "id": "ce110000-1111-2222-3333-ffffff000001"
  },
  {
   "cell_type": "code",
   "source": "def create_dataframe(data):\n    df=data.to_pandas()\n    return df\n\ndf_H2=create_dataframe(data_h2)\n",
   "metadata": {
    "colab": {
     "base_uri": "https://localhost:8080/",
     "height": 366
    },
    "id": "dMUWRR5dmIGo",
    "outputId": "3dc854f9-e90b-4ea7-a4bd-6f9c9eb52a73",
    "name": "cell3",
    "language": "python",
    "collapsed": false
   },
   "execution_count": null,
   "outputs": [
    {
     "output_type": "execute_result",
     "data": {
      "text/plain": [
       "NO                16681\n",
       "TIME              16681\n",
       "SOURCE            16681\n",
       "DESTINATION       16681\n",
       "PROTOCOL          16681\n",
       "LENGTH            16681\n",
       "INFO              16681\n",
       "TYPE              16681\n",
       "TYPE_OF_ATTACK    16681\n",
       "dtype: int64"
      ],
      "text/html": [
       "<div>\n",
       "<style scoped>\n",
       "    .dataframe tbody tr th:only-of-type {\n",
       "        vertical-align: middle;\n",
       "    }\n",
       "\n",
       "    .dataframe tbody tr th {\n",
       "        vertical-align: top;\n",
       "    }\n",
       "\n",
       "    .dataframe thead th {\n",
       "        text-align: right;\n",
       "    }\n",
       "</style>\n",
       "<table border=\"1\" class=\"dataframe\">\n",
       "  <thead>\n",
       "    <tr style=\"text-align: right;\">\n",
       "      <th></th>\n",
       "      <th>0</th>\n",
       "    </tr>\n",
       "  </thead>\n",
       "  <tbody>\n",
       "    <tr>\n",
       "      <th>NO</th>\n",
       "      <td>16681</td>\n",
       "    </tr>\n",
       "    <tr>\n",
       "      <th>TIME</th>\n",
       "      <td>16681</td>\n",
       "    </tr>\n",
       "    <tr>\n",
       "      <th>SOURCE</th>\n",
       "      <td>16681</td>\n",
       "    </tr>\n",
       "    <tr>\n",
       "      <th>DESTINATION</th>\n",
       "      <td>16681</td>\n",
       "    </tr>\n",
       "    <tr>\n",
       "      <th>PROTOCOL</th>\n",
       "      <td>16681</td>\n",
       "    </tr>\n",
       "    <tr>\n",
       "      <th>LENGTH</th>\n",
       "      <td>16681</td>\n",
       "    </tr>\n",
       "    <tr>\n",
       "      <th>INFO</th>\n",
       "      <td>16681</td>\n",
       "    </tr>\n",
       "    <tr>\n",
       "      <th>TYPE</th>\n",
       "      <td>16681</td>\n",
       "    </tr>\n",
       "    <tr>\n",
       "      <th>TYPE_OF_ATTACK</th>\n",
       "      <td>16681</td>\n",
       "    </tr>\n",
       "  </tbody>\n",
       "</table>\n",
       "</div><br><label><b>dtype:</b> int64</label>"
      ]
     },
     "metadata": {},
     "execution_count": 3
    }
   ],
   "id": "ce110000-1111-2222-3333-ffffff000002"
  },
  {
   "cell_type": "code",
   "source": "def preprocess_x(train_df,test_df):\n\n    # Drop unnecessary columns\n    train_df = train_df.drop(['NO', 'TIME', 'TYPE', 'SOURCE', 'DESTINATION'], axis=1)\n    test_df = test_df.drop(['NO', 'TIME', 'TYPE', 'SOURCE', 'DESTINATION'], axis=1)\n\n    # Analyze the 'INFO' column to create a new column based on the provided patterns\n\n    def determine_info_type(row):\n      # Initialize with default value\n      info_type = 'Normal'\n\n      rst_fin_pattern = r'RST|FIN'\n      psh_pattern = r'PSH'\n      syn_pattern = r'SYN'\n\n      protocols = ['DNS', 'LLC', 'UDP', 'DHCP', 'TLSv1.1', 'HTTP', 'TLSv1.2', 'OCSP']\n\n      if row['PROTOCOL'] == 'TCP' and row['LENGTH'] in [54, 66] and re.search(rst_fin_pattern, row['INFO']):\n          info_type = 'Nmap'\n      elif row['PROTOCOL'] == 'TCP' and re.search(psh_pattern, row['INFO']):\n          info_type = 'DoS'\n      elif row['PROTOCOL'] == 'TCP' and re.search(syn_pattern, row['INFO']):\n          info_type = 'Normal'\n      elif row['PROTOCOL'] == 'ICMP':\n          info_type = 'SMURF'\n      elif row['PROTOCOL'] == 'ARP':\n          info_type = 'ARP'\n      elif row['PROTOCOL'] in protocols:\n          info_type = 'Normal'\n\n      return info_type\n\n    # Apply the function to each row in the DataFrame\n    train_df['INFO_TYPE'] = train_df.apply(determine_info_type, axis=1)\n    test_df['INFO_TYPE'] = test_df.apply(determine_info_type, axis=1)\n\n    # One-hot encode PROTOCOL and INFO_Type\n    protocol_encoder = OneHotEncoder(sparse_output=False, handle_unknown='ignore')\n    info_type_encoder = OneHotEncoder(sparse_output=False, handle_unknown='ignore')\n\n    # Fit on train, transform on both train and test\n    protocol_encoder.fit(train_df[['PROTOCOL']])\n    one_hot_protocol_train = protocol_encoder.transform(train_df[['PROTOCOL']])\n    one_hot_protocol_test = protocol_encoder.transform(test_df[['PROTOCOL']])\n\n    info_type_encoder.fit(train_df[['INFO_TYPE']])\n    one_hot_info_type_train = info_type_encoder.transform(train_df[['INFO_TYPE']])\n    one_hot_info_type_test = info_type_encoder.transform(test_df[['INFO_TYPE']])\n\n    # Convert to DataFrame with appropriate column names\n    one_hot_protocol_train_df = pd.DataFrame(one_hot_protocol_train, columns=protocol_encoder.get_feature_names_out(['PROTOCOL']))\n    one_hot_protocol_test_df = pd.DataFrame(one_hot_protocol_test, columns=protocol_encoder.get_feature_names_out(['PROTOCOL']))\n\n    one_hot_info_type_train_df = pd.DataFrame(one_hot_info_type_train, columns=info_type_encoder.get_feature_names_out(['INFO_TYPE']))\n    one_hot_info_type_test_df = pd.DataFrame(one_hot_info_type_test, columns=info_type_encoder.get_feature_names_out(['INFO_TYPE']))\n\n    # Concatenate the one-hot encoded columns back to the DataFrames\n    final_train_df = pd.concat([train_df.reset_index(drop=True), one_hot_protocol_train_df, one_hot_info_type_train_df], axis=1)\n    final_test_df = pd.concat([test_df.reset_index(drop=True), one_hot_protocol_test_df, one_hot_info_type_test_df], axis=1)\n\n    # Drop the original columns\n    final_train_df.drop(['PROTOCOL', 'INFO_TYPE', 'INFO'], axis=1, inplace=True)\n    final_test_df.drop(['PROTOCOL', 'INFO_TYPE', 'INFO'], axis=1, inplace=True)\n    # final_csv_path = 'train.csv'\n    # final_train_df.to_csv(final_csv_path, index=False)\n    # final_csv_path = 'test.csv'\n    # final_test_df.to_csv(final_csv_path, index=False)\n    return final_train_df,final_test_df\n",
   "metadata": {
    "id": "GG-h_aegevVx",
    "name": "cell4",
    "language": "python",
    "collapsed": false
   },
   "execution_count": null,
   "outputs": [],
   "id": "ce110000-1111-2222-3333-ffffff000003"
  },
  {
   "cell_type": "code",
   "source": "def preprocess_y(y):\n    # Initialize the encoder\n    onehot_encoder = OneHotEncoder(sparse_output=False)\n\n    # Fit and transform y_train\n    y_encoded = onehot_encoder.fit_transform(y.values.reshape(-1, 1))\n\n    # Get the class names (original labels)\n    class_names = onehot_encoder.categories_[0]\n\n    # Return both the encoded labels and the class names\n    return y_encoded, class_names",
   "metadata": {
    "id": "2PJ70GFWh64y",
    "name": "cell5",
    "language": "python",
    "collapsed": false
   },
   "execution_count": null,
   "outputs": [],
   "id": "ce110000-1111-2222-3333-ffffff000004"
  },
  {
   "cell_type": "code",
   "source": [
    "def data_stratified_split_train_test(df):\n",
    "    x=df.drop(['TYPE_OF_ATTACK'],axis=1)\n",
    "    y=df['TYPE_OF_ATTACK']\n",
    "\n",
    "    # Check protocol distribution\n",
    "    protocol_counts = df['PROTOCOL'].value_counts()\n",
    "    print(protocol_counts)  # Optional: To see the distribution\n",
    "\n",
    "    # Handle rare protocols if necessary\n",
    "    # For example, removing protocols with less than 2 occurrences\n",
    "    rare_protocols = protocol_counts[protocol_counts < 2].index\n",
    "    df_filtered = df[~df['PROTOCOL'].isin(rare_protocols)]\n",
    "\n",
    "    x_filtered = df_filtered.drop(['TYPE_OF_ATTACK'], axis=1)\n",
    "    y_filtered = df_filtered['TYPE_OF_ATTACK']\n",
    "\n",
    "    # Initialize StratifiedShuffleSplit\n",
    "    stratified_split = StratifiedShuffleSplit(n_splits=1, test_size=0.2, random_state=42)\n",
    "\n",
    "    # Perform the split\n",
    "    for train_index, test_index in stratified_split.split(x_filtered, df_filtered['PROTOCOL']):\n",
    "        x_train = x_filtered.iloc[train_index]\n",
    "        x_test = x_filtered.iloc[test_index]\n",
    "        y_train = y_filtered.iloc[train_index]\n",
    "        y_test = y_filtered.iloc[test_index]\n",
    "\n",
    "    return x_train,x_test,y_train,y_test\n",
    "\n",
    "x_train_raw,x_test_raw,y_train_raw,y_test_raw=data_stratified_split_train_test(df_H2)\n",
    "\n",
    "print(x_train_raw.shape)\n",
    "print(y_train_raw.shape)\n",
    "#preprocess the data\n",
    "x_train,x_test=preprocess_x(x_train_raw,x_test_raw)\n",
    "\n",
    "\n",
    "print(x_train.shape)\n",
    "print(x_test.shape)\n",
    "\n",
    "#preprocess the labels\n",
    "y_train, class_name=preprocess_y(y_train_raw)\n",
    "y_test,class_name=preprocess_y(y_test_raw)\n",
    "\n",
    "print(class_name)"
   ],
   "metadata": {
    "id": "sXlQODNPsPDb",
    "colab": {
     "base_uri": "https://localhost:8080/"
    },
    "outputId": "fe233cf0-13e6-4213-d153-4417e70415a8",
    "name": "cell6",
    "language": "python",
    "collapsed": false
   },
   "execution_count": null,
   "outputs": [
    {
     "output_type": "stream",
     "name": "stdout",
     "text": [
      "PROTOCOL\n",
      "ICMP       11688\n",
      "TCP         3507\n",
      "TLSv1.2      910\n",
      "ARP          354\n",
      "DNS          179\n",
      "OCSP          25\n",
      "TLSv1.1       13\n",
      "DHCP           2\n",
      "HTTP           2\n",
      "UDP            1\n",
      "Name: count, dtype: int64\n",
      "(13344, 8)\n",
      "(13344,)\n",
      "(13344, 15)\n",
      "(3336, 15)\n",
      "['ARP Spoofing' 'DoS Attack' 'Nmap Port Scan' 'No Attack' 'Smurf Attack']\n"
     ]
    },
    {
     "output_type": "stream",
     "name": "stderr",
     "text": [
      "/usr/local/lib/python3.10/dist-packages/sklearn/preprocessing/_encoders.py:975: FutureWarning: `sparse` was renamed to `sparse_output` in version 1.2 and will be removed in 1.4. `sparse_output` is ignored unless you leave `sparse` to its default value.\n",
      "  warnings.warn(\n",
      "/usr/local/lib/python3.10/dist-packages/sklearn/preprocessing/_encoders.py:975: FutureWarning: `sparse` was renamed to `sparse_output` in version 1.2 and will be removed in 1.4. `sparse_output` is ignored unless you leave `sparse` to its default value.\n",
      "  warnings.warn(\n",
      "/usr/local/lib/python3.10/dist-packages/sklearn/preprocessing/_encoders.py:975: FutureWarning: `sparse` was renamed to `sparse_output` in version 1.2 and will be removed in 1.4. `sparse_output` is ignored unless you leave `sparse` to its default value.\n",
      "  warnings.warn(\n",
      "/usr/local/lib/python3.10/dist-packages/sklearn/preprocessing/_encoders.py:975: FutureWarning: `sparse` was renamed to `sparse_output` in version 1.2 and will be removed in 1.4. `sparse_output` is ignored unless you leave `sparse` to its default value.\n",
      "  warnings.warn(\n"
     ]
    }
   ],
   "id": "ce110000-1111-2222-3333-ffffff000005"
  },
  {
   "cell_type": "code",
   "source": [
    "print(x_train.shape)\n",
    "print(y_train.shape)\n",
    "# print(x.shape)\n",
    "# print(y.shape)"
   ],
   "metadata": {
    "colab": {
     "base_uri": "https://localhost:8080/"
    },
    "id": "BPnZuHsalRDB",
    "outputId": "a0c48e95-9b3d-4ce1-a82e-b5359f0de58e",
    "name": "cell7",
    "language": "python",
    "collapsed": false
   },
   "execution_count": null,
   "outputs": [
    {
     "output_type": "stream",
     "name": "stdout",
     "text": [
      "(13344, 15)\n",
      "(13344, 5)\n"
     ]
    }
   ],
   "id": "ce110000-1111-2222-3333-ffffff000006"
  },
  {
   "cell_type": "code",
   "source": "def create_model(input_dim):\n    model=Sequential([\n        Dense(64,input_dim=input_dim,activation='relu'),\n        Dense(32,activation='relu'),\n        Dense(5,activation='softmax')\n    ])\n    model.compile(optimizer=Adam(learning_rate=0.01),loss='categorical_crossentropy',metrics=['accuracy'])\n    return model\n\ndef client_training(x_train, y_train, input_dim):\n    model = create_model(input_dim)\n    \n    # Set up a checkpoint to save the best model based on validation accuracy\n    checkpoint = ModelCheckpoint(\n        'client_model2.h5',  # filepath where the model will be saved\n        monitor='val_accuracy',  # monitor validation accuracy\n        verbose=1,  # verbosity mode\n        save_best_only=True,  # only save when the monitored metric improves\n        mode='max'  # max mode to save the model with the highest accuracy\n    )\n\n    # Early stopping to prevent overfitting\n    early_stopping = EarlyStopping(monitor='val_loss', patience=10, mode='min', verbose=1)\n\n    # Fit the model with validation data\n    model.fit(x_train, y_train, epochs=500, batch_size=32, verbose=1, validation_split=0.2, callbacks=[checkpoint,early_stopping])\n    \n    return model\n",
   "metadata": {
    "id": "JEqsvSm9tXvH",
    "name": "cell8",
    "language": "python",
    "collapsed": false
   },
   "execution_count": null,
   "outputs": [],
   "id": "ce110000-1111-2222-3333-ffffff000007"
  },
  {
   "cell_type": "code",
   "source": [
    "client_model2=client_training(x_train,y_train,x_train.shape[1])\n",
    "client_model2.save('client_model2.h5')"
   ],
   "metadata": {
    "colab": {
     "base_uri": "https://localhost:8080/"
    },
    "id": "0E9vk7hOtdCF",
    "outputId": "bf48e3da-21c5-44dc-cfe4-b0577c23cc75",
    "name": "cell9",
    "language": "python",
    "collapsed": false
   },
   "execution_count": null,
   "outputs": [
    {
     "output_type": "stream",
     "name": "stdout",
     "text": [
      "Epoch 1/10\n"
     ]
    },
    {
     "output_type": "stream",
     "name": "stderr",
     "text": [
      "/usr/local/lib/python3.10/dist-packages/keras/src/layers/core/dense.py:87: UserWarning: Do not pass an `input_shape`/`input_dim` argument to a layer. When using Sequential models, prefer using an `Input(shape)` object as the first layer in the model instead.\n",
      "  super().__init__(activity_regularizer=activity_regularizer, **kwargs)\n"
     ]
    },
    {
     "output_type": "stream",
     "name": "stdout",
     "text": [
      "\u001b[1m417/417\u001b[0m \u001b[32m━━━━━━━━━━━━━━━━━━━━\u001b[0m\u001b[37m\u001b[0m \u001b[1m5s\u001b[0m 6ms/step - accuracy: 0.8297 - loss: 1.6160\n",
      "Epoch 2/10\n",
      "\u001b[1m417/417\u001b[0m \u001b[32m━━━━━━━━━━━━━━━━━━━━\u001b[0m\u001b[37m\u001b[0m \u001b[1m2s\u001b[0m 6ms/step - accuracy: 0.9898 - loss: 0.0801\n",
      "Epoch 3/10\n",
      "\u001b[1m417/417\u001b[0m \u001b[32m━━━━━━━━━━━━━━━━━━━━\u001b[0m\u001b[37m\u001b[0m \u001b[1m2s\u001b[0m 5ms/step - accuracy: 0.9844 - loss: 0.1267\n",
      "Epoch 4/10\n",
      "\u001b[1m417/417\u001b[0m \u001b[32m━━━━━━━━━━━━━━━━━━━━\u001b[0m\u001b[37m\u001b[0m \u001b[1m2s\u001b[0m 4ms/step - accuracy: 0.9943 - loss: 0.0347\n",
      "Epoch 5/10\n",
      "\u001b[1m417/417\u001b[0m \u001b[32m━━━━━━━━━━━━━━━━━━━━\u001b[0m\u001b[37m\u001b[0m \u001b[1m2s\u001b[0m 2ms/step - accuracy: 0.9929 - loss: 0.0374\n",
      "Epoch 6/10\n",
      "\u001b[1m417/417\u001b[0m \u001b[32m━━━━━━━━━━━━━━━━━━━━\u001b[0m\u001b[37m\u001b[0m \u001b[1m1s\u001b[0m 2ms/step - accuracy: 0.9918 - loss: 0.0315\n",
      "Epoch 7/10\n",
      "\u001b[1m417/417\u001b[0m \u001b[32m━━━━━━━━━━━━━━━━━━━━\u001b[0m\u001b[37m\u001b[0m \u001b[1m1s\u001b[0m 2ms/step - accuracy: 0.9888 - loss: 0.0684\n",
      "Epoch 8/10\n",
      "\u001b[1m417/417\u001b[0m \u001b[32m━━━━━━━━━━━━━━━━━━━━\u001b[0m\u001b[37m\u001b[0m \u001b[1m1s\u001b[0m 2ms/step - accuracy: 0.9912 - loss: 0.0289\n",
      "Epoch 9/10\n",
      "\u001b[1m417/417\u001b[0m \u001b[32m━━━━━━━━━━━━━━━━━━━━\u001b[0m\u001b[37m\u001b[0m \u001b[1m1s\u001b[0m 2ms/step - accuracy: 0.9916 - loss: 0.0271\n",
      "Epoch 10/10\n",
      "\u001b[1m417/417\u001b[0m \u001b[32m━━━━━━━━━━━━━━━━━━━━\u001b[0m\u001b[37m\u001b[0m \u001b[1m1s\u001b[0m 2ms/step - accuracy: 0.9930 - loss: 0.0169\n"
     ]
    },
    {
     "output_type": "stream",
     "name": "stderr",
     "text": [
      "WARNING:absl:You are saving your model as an HDF5 file via `model.save()` or `keras.saving.save_model(model)`. This file format is considered legacy. We recommend using instead the native Keras format, e.g. `model.save('my_model.keras')` or `keras.saving.save_model(model, 'my_model.keras')`. \n"
     ]
    }
   ],
   "id": "ce110000-1111-2222-3333-ffffff000008"
  },
  {
   "cell_type": "code",
   "id": "fda2b420-fe65-4ddf-bb62-abcb7e90f625",
   "metadata": {
    "language": "python",
    "name": "cell17",
    "collapsed": false
   },
   "outputs": [],
   "source": "# Step 4: Define the version number\nversion = \"v2\"  # Increment this version number as needed",
   "execution_count": null
  },
  {
   "cell_type": "code",
   "id": "072b145a-eeaa-45a2-b746-4396184a4842",
   "metadata": {
    "language": "python",
    "name": "cell18",
    "collapsed": false
   },
   "outputs": [],
   "source": "# Upload model.h5 file to Snowflake stage\nsession.file.put(\"client_model2.h5\", f\"@client2_model_stage/{version}/\")",
   "execution_count": null
  },
  {
   "cell_type": "code",
   "source": [
    "client_model2.summary()"
   ],
   "metadata": {
    "colab": {
     "base_uri": "https://localhost:8080/",
     "height": 245
    },
    "id": "0pyI1TfVtyBz",
    "outputId": "d81afa69-eb95-4346-a5b2-458d1cd01da3",
    "name": "cell10",
    "language": "python"
   },
   "execution_count": null,
   "outputs": [
    {
     "output_type": "display_data",
     "data": {
      "text/plain": [
       "\u001b[1mModel: \"sequential_1\"\u001b[0m\n"
      ],
      "text/html": [
       "<pre style=\"white-space:pre;overflow-x:auto;line-height:normal;font-family:Menlo,'DejaVu Sans Mono',consolas,'Courier New',monospace\"><span style=\"font-weight: bold\">Model: \"sequential_1\"</span>\n",
       "</pre>\n"
      ]
     },
     "metadata": {}
    },
    {
     "output_type": "display_data",
     "data": {
      "text/plain": [
       "┏━━━━━━━━━━━━━━━━━━━━━━━━━━━━━━━━━━━━━━┳━━━━━━━━━━━━━━━━━━━━━━━━━━━━━┳━━━━━━━━━━━━━━━━━┓\n",
       "┃\u001b[1m \u001b[0m\u001b[1mLayer (type)                        \u001b[0m\u001b[1m \u001b[0m┃\u001b[1m \u001b[0m\u001b[1mOutput Shape               \u001b[0m\u001b[1m \u001b[0m┃\u001b[1m \u001b[0m\u001b[1m        Param #\u001b[0m\u001b[1m \u001b[0m┃\n",
       "┡━━━━━━━━━━━━━━━━━━━━━━━━━━━━━━━━━━━━━━╇━━━━━━━━━━━━━━━━━━━━━━━━━━━━━╇━━━━━━━━━━━━━━━━━┩\n",
       "│ dense_3 (\u001b[38;5;33mDense\u001b[0m)                      │ (\u001b[38;5;45mNone\u001b[0m, \u001b[38;5;34m64\u001b[0m)                  │           \u001b[38;5;34m1,024\u001b[0m │\n",
       "├──────────────────────────────────────┼─────────────────────────────┼─────────────────┤\n",
       "│ dense_4 (\u001b[38;5;33mDense\u001b[0m)                      │ (\u001b[38;5;45mNone\u001b[0m, \u001b[38;5;34m32\u001b[0m)                  │           \u001b[38;5;34m2,080\u001b[0m │\n",
       "├──────────────────────────────────────┼─────────────────────────────┼─────────────────┤\n",
       "│ dense_5 (\u001b[38;5;33mDense\u001b[0m)                      │ (\u001b[38;5;45mNone\u001b[0m, \u001b[38;5;34m5\u001b[0m)                   │             \u001b[38;5;34m165\u001b[0m │\n",
       "└──────────────────────────────────────┴─────────────────────────────┴─────────────────┘\n"
      ],
      "text/html": [
       "<pre style=\"white-space:pre;overflow-x:auto;line-height:normal;font-family:Menlo,'DejaVu Sans Mono',consolas,'Courier New',monospace\">┏━━━━━━━━━━━━━━━━━━━━━━━━━━━━━━━━━━━━━━┳━━━━━━━━━━━━━━━━━━━━━━━━━━━━━┳━━━━━━━━━━━━━━━━━┓\n",
       "┃<span style=\"font-weight: bold\"> Layer (type)                         </span>┃<span style=\"font-weight: bold\"> Output Shape                </span>┃<span style=\"font-weight: bold\">         Param # </span>┃\n",
       "┡━━━━━━━━━━━━━━━━━━━━━━━━━━━━━━━━━━━━━━╇━━━━━━━━━━━━━━━━━━━━━━━━━━━━━╇━━━━━━━━━━━━━━━━━┩\n",
       "│ dense_3 (<span style=\"color: #0087ff; text-decoration-color: #0087ff\">Dense</span>)                      │ (<span style=\"color: #00d7ff; text-decoration-color: #00d7ff\">None</span>, <span style=\"color: #00af00; text-decoration-color: #00af00\">64</span>)                  │           <span style=\"color: #00af00; text-decoration-color: #00af00\">1,024</span> │\n",
       "├──────────────────────────────────────┼─────────────────────────────┼─────────────────┤\n",
       "│ dense_4 (<span style=\"color: #0087ff; text-decoration-color: #0087ff\">Dense</span>)                      │ (<span style=\"color: #00d7ff; text-decoration-color: #00d7ff\">None</span>, <span style=\"color: #00af00; text-decoration-color: #00af00\">32</span>)                  │           <span style=\"color: #00af00; text-decoration-color: #00af00\">2,080</span> │\n",
       "├──────────────────────────────────────┼─────────────────────────────┼─────────────────┤\n",
       "│ dense_5 (<span style=\"color: #0087ff; text-decoration-color: #0087ff\">Dense</span>)                      │ (<span style=\"color: #00d7ff; text-decoration-color: #00d7ff\">None</span>, <span style=\"color: #00af00; text-decoration-color: #00af00\">5</span>)                   │             <span style=\"color: #00af00; text-decoration-color: #00af00\">165</span> │\n",
       "└──────────────────────────────────────┴─────────────────────────────┴─────────────────┘\n",
       "</pre>\n"
      ]
     },
     "metadata": {}
    },
    {
     "output_type": "display_data",
     "data": {
      "text/plain": [
       "\u001b[1m Total params: \u001b[0m\u001b[38;5;34m9,809\u001b[0m (38.32 KB)\n"
      ],
      "text/html": [
       "<pre style=\"white-space:pre;overflow-x:auto;line-height:normal;font-family:Menlo,'DejaVu Sans Mono',consolas,'Courier New',monospace\"><span style=\"font-weight: bold\"> Total params: </span><span style=\"color: #00af00; text-decoration-color: #00af00\">9,809</span> (38.32 KB)\n",
       "</pre>\n"
      ]
     },
     "metadata": {}
    },
    {
     "output_type": "display_data",
     "data": {
      "text/plain": [
       "\u001b[1m Trainable params: \u001b[0m\u001b[38;5;34m3,269\u001b[0m (12.77 KB)\n"
      ],
      "text/html": [
       "<pre style=\"white-space:pre;overflow-x:auto;line-height:normal;font-family:Menlo,'DejaVu Sans Mono',consolas,'Courier New',monospace\"><span style=\"font-weight: bold\"> Trainable params: </span><span style=\"color: #00af00; text-decoration-color: #00af00\">3,269</span> (12.77 KB)\n",
       "</pre>\n"
      ]
     },
     "metadata": {}
    },
    {
     "output_type": "display_data",
     "data": {
      "text/plain": [
       "\u001b[1m Non-trainable params: \u001b[0m\u001b[38;5;34m0\u001b[0m (0.00 B)\n"
      ],
      "text/html": [
       "<pre style=\"white-space:pre;overflow-x:auto;line-height:normal;font-family:Menlo,'DejaVu Sans Mono',consolas,'Courier New',monospace\"><span style=\"font-weight: bold\"> Non-trainable params: </span><span style=\"color: #00af00; text-decoration-color: #00af00\">0</span> (0.00 B)\n",
       "</pre>\n"
      ]
     },
     "metadata": {}
    },
    {
     "output_type": "display_data",
     "data": {
      "text/plain": [
       "\u001b[1m Optimizer params: \u001b[0m\u001b[38;5;34m6,540\u001b[0m (25.55 KB)\n"
      ],
      "text/html": [
       "<pre style=\"white-space:pre;overflow-x:auto;line-height:normal;font-family:Menlo,'DejaVu Sans Mono',consolas,'Courier New',monospace\"><span style=\"font-weight: bold\"> Optimizer params: </span><span style=\"color: #00af00; text-decoration-color: #00af00\">6,540</span> (25.55 KB)\n",
       "</pre>\n"
      ]
     },
     "metadata": {}
    }
   ],
   "id": "ce110000-1111-2222-3333-ffffff000009"
  },
  {
   "cell_type": "markdown",
   "source": [
    "Extracting the weights and converting them into a format that can be serialized to JSON, typically as lists of numbers since JSON does not directly support NumPy arrays"
   ],
   "metadata": {
    "id": "EiWgA66oFCiC",
    "name": "cell11"
   },
   "id": "ce110000-1111-2222-3333-ffffff000010"
  },
  {
   "cell_type": "code",
   "source": "import json\n\n# Extract the configuration of the model\nmodel_config = client_model2.get_config()\n\n# Prepare a dictionary to store the weights\nmodel_weights = {}\n\n# Iterate over each layer in the model\nfor layer in client_model2.layers:\n    weights = layer.get_weights()  # Get the weights of the current layer\n    layer_weights = []  # List to store the current layer's weights\n\n    print(f'Layer: {layer.name}')\n\n    for i, weight_array in enumerate(weights):\n        print(f\"  Weights {i+1} shape: {weight_array.shape}\")\n        print(weight_array)\n\n        # Convert each weight array to a list and append it to the layer's weights\n        layer_weights.append(weight_array.tolist())\n\n    # Add the layer's weights to the model_weights dictionary\n    model_weights[layer.name] = layer_weights\n\n# Save the weights to a JSON file\nwith open(f'model_weights2_{version}.json', 'w') as json_file:\n    json.dump(model_weights, json_file, indent=2)\n\nprint(f\"Weights have been saved to model_weights2_{version}.json\")\n",
   "metadata": {
    "colab": {
     "base_uri": "https://localhost:8080/"
    },
    "id": "8ZJktCEUt55G",
    "outputId": "18dd4f9e-6297-480f-d101-1919d1370b29",
    "name": "cell12",
    "language": "python"
   },
   "execution_count": null,
   "outputs": [
    {
     "output_type": "stream",
     "name": "stdout",
     "text": [
      "Layer: dense_3\n",
      "  Weights 1 shape: (15, 64)\n",
      "[[-1.51490629e-01 -8.74011517e-02 -2.37106442e-01 -7.28553981e-02\n",
      "  -2.74504483e-01 -1.63205475e-01 -5.68854511e-02 -1.24972612e-02\n",
      "  -6.48663044e-02 -2.24841565e-01 -1.75444186e-01 -2.37917289e-01\n",
      "  -7.64040798e-02 -5.48201762e-02 -5.24047650e-02 -1.37486011e-01\n",
      "  -1.64021224e-01  1.19347656e-02 -3.69589925e-02  4.70465571e-02\n",
      "  -2.00745404e-01 -2.31780503e-02 -6.01793267e-02 -1.48190081e-01\n",
      "  -4.07941639e-02 -7.94780031e-02 -7.82002062e-02 -5.74454814e-02\n",
      "  -4.23948765e-02 -9.10989102e-03 -2.08336134e-02 -2.14573778e-02\n",
      "  -4.29102033e-02 -7.62516931e-02 -6.10792600e-02 -1.82683632e-01\n",
      "  -1.97902277e-01 -2.11752027e-01 -1.40106557e-02 -8.64670873e-02\n",
      "  -9.39646885e-02 -1.14582352e-01 -1.89120024e-01  2.73686741e-02\n",
      "  -6.88829571e-02 -3.49574201e-02 -9.09236372e-02 -1.78332418e-01\n",
      "  -3.06072980e-02 -3.48991342e-02 -2.20290408e-01 -6.60197213e-02\n",
      "  -2.38369629e-01 -1.06873468e-01 -2.15625688e-01 -1.69465184e-01\n",
      "  -1.69855803e-02 -5.12890518e-02 -1.71379715e-01 -8.45361874e-02\n",
      "  -2.51280248e-01 -1.25525907e-01 -9.64607745e-02  2.35783421e-02]\n",
      " [ 9.69347358e-03  2.28069216e-01 -1.96986228e-01 -4.18183446e-01\n",
      "   1.25783980e-01 -6.46536201e-02 -6.62990212e-02  2.94211173e+00\n",
      "  -3.46023768e-01 -2.88227350e-02  1.43782765e-01 -1.55923319e+00\n",
      "   1.79852843e-01 -5.52955866e-01  1.38702482e-01  2.44401783e-01\n",
      "   2.66585559e-01 -2.13941097e+00  1.21170521e-01 -2.85719728e+00\n",
      "  -2.26777864e+00 -2.18537331e+00 -1.20936871e+00  1.48619145e-01\n",
      "   2.09440851e+00 -8.11165214e-01 -1.99234143e-01  4.92205620e-02\n",
      "   4.41772640e-02 -2.16985202e+00 -1.85005915e+00  2.27690816e-01\n",
      "  -1.03736088e-01 -1.76794207e+00 -3.18857729e-01  2.46833414e-01\n",
      "  -9.43100035e-01 -7.59200305e-02 -6.29034579e-01 -2.48180911e-01\n",
      "   9.08759892e-01 -1.10701394e+00  2.17294693e-03  3.11044931e+00\n",
      "   1.14741385e-01 -1.18464553e+00  2.42222816e-01  2.07436442e-01\n",
      "  -2.61995703e-01  3.04896355e-01 -1.22909829e-01 -1.66884303e+00\n",
      "  -8.81137401e-02  1.52362585e-02 -1.44130623e+00  2.56856591e-01\n",
      "   4.24049437e-01 -1.60167709e-01 -5.17548919e-02  1.69255257e+00\n",
      "  -6.91511035e-02  1.88303304e+00 -1.37357160e-01 -1.24431348e+00]\n",
      " [-1.91136062e-01  1.65198922e-01 -6.67387247e-02  3.40907574e-01\n",
      "   2.59749740e-01  1.34823829e-01 -4.83267754e-02 -2.50195771e-01\n",
      "   1.09758325e-01  2.55351454e-01 -3.66005301e-03  3.18355471e-01\n",
      "   2.01134861e-01  2.06105292e-01  8.79620314e-02  1.97460949e-01\n",
      "   7.05063283e-01  1.67849362e+00  1.56826973e-01  1.45232308e+00\n",
      "   1.30717826e+00 -7.21715093e-01 -5.70302904e-01  1.08326316e+00\n",
      "  -4.34956491e-01 -2.27896541e-01 -4.41943556e-02  2.40493745e-01\n",
      "   1.95052832e-01 -2.33539164e-01 -8.74798372e-02  1.56202391e-01\n",
      "   2.11738646e-01 -2.57126063e-01 -8.12936872e-02  1.81610733e-01\n",
      "   8.56225312e-01  1.10454887e-01  1.95217133e-02 -7.83208460e-02\n",
      "  -8.08061600e-01  2.38607243e-01 -2.42159128e-01 -8.67835164e-01\n",
      "  -1.08081132e-01  5.18247545e-01  1.33630633e-03 -1.38207853e-01\n",
      "  -1.43754914e-01  1.64257538e+00 -2.12212965e-01 -2.96844780e-01\n",
      "   2.51069158e-01  1.42500281e-01  8.78908575e-01 -1.25543177e-01\n",
      "   1.82632003e-02  2.08708614e-01 -1.32307172e-01 -9.26617756e-02\n",
      "  -1.17449686e-01  3.81354213e-01 -9.62787718e-02 -1.86620212e+00]\n",
      " [-8.28447342e-02 -1.07942432e-01 -1.74972236e-01  7.16974556e-01\n",
      "   2.00828344e-01 -1.27340555e-01  7.34550953e-02 -6.44964695e-01\n",
      "   7.21049011e-01 -1.88290223e-01  1.15365893e-01  2.80180430e+00\n",
      "   2.67316401e-02  1.08477867e+00  4.95717525e-02  1.84676021e-01\n",
      "   1.81357324e+00  3.04444051e+00 -2.50702947e-01  2.25559449e+00\n",
      "   2.01283407e+00 -1.09381449e+00 -1.65701926e+00  3.18531680e+00\n",
      "  -4.29331869e-01 -7.02230096e-01  2.92414725e-02  4.13075686e-02\n",
      "  -1.18538111e-01 -1.67286694e+00 -6.77307069e-01  4.07021791e-01\n",
      "   1.40521079e-01 -6.40840054e-01  1.62081107e-01 -2.28790671e-01\n",
      "   7.43848383e-01  1.64037973e-01 -1.96015805e-01  8.93819332e-03\n",
      "  -1.44250476e+00  7.45011926e-01 -2.22440034e-01 -1.99001336e+00\n",
      "  -7.22098947e-02  9.36968267e-01 -5.72908521e-02 -1.36273488e-01\n",
      "   2.36640364e-01  3.79023767e+00 -7.44411945e-02 -7.34087229e-02\n",
      "   1.17089361e-01 -2.03054458e-01  9.42349434e-01 -8.59124064e-02\n",
      "   2.84313738e-01 -7.19209164e-02 -2.60117441e-01 -1.10726833e+00\n",
      "  -1.90113351e-01  1.22636342e+00 -1.78628147e-01 -2.46482372e+00]\n",
      " [-2.22309738e-01  2.01993376e-01 -6.85300529e-02  1.19401440e-01\n",
      "  -2.35736012e-01  9.30300355e-03  2.43308455e-01 -2.30848163e-01\n",
      "   1.87012792e-01 -4.57260162e-02  2.15732992e-01  9.52810943e-01\n",
      "   1.90749258e-01  1.17802709e-01  7.32037425e-03 -2.47909725e-02\n",
      "   6.59733534e-01  1.39114928e+00 -1.01055756e-01  1.39907086e+00\n",
      "   9.58131075e-01 -4.10034925e-01 -3.06854159e-01  6.93816602e-01\n",
      "  -3.22200716e-01 -4.02803361e-01 -2.52531081e-01  9.74602103e-02\n",
      "  -2.05330238e-01 -2.89164007e-01 -3.10916483e-01  1.93320543e-01\n",
      "  -1.15592524e-01 -3.87698635e-02 -6.23384863e-02  1.84728324e-01\n",
      "   7.75537372e-01  1.10339046e-01  4.31922674e-02  1.97979689e-01\n",
      "  -7.77382016e-01  2.88918048e-01  1.33743107e-01 -9.78831768e-01\n",
      "  -1.91637918e-01  1.88498691e-01  1.57626212e-01 -1.99513063e-01\n",
      "  -2.02605158e-01  1.55490220e+00 -1.54613882e-01  4.96683829e-02\n",
      "   9.30758119e-02  5.82922697e-02  5.51050782e-01  1.62455738e-02\n",
      "  -7.92696357e-01  2.15063661e-01 -2.24855691e-01  3.21406543e-01\n",
      "   2.75468618e-01  2.26580098e-01 -1.12906545e-01 -1.39248383e+00]\n",
      " [-2.58237123e-03 -1.51131153e-01 -8.31975043e-02 -1.12998712e+00\n",
      "   1.68514669e-01 -8.05215240e-02  1.42639756e-01 -7.51418233e-01\n",
      "  -1.18642822e-01  1.71322823e-01  1.36736631e-01 -1.32423306e+00\n",
      "   1.32687211e-01 -1.05965698e+00 -1.63650915e-01 -1.65809125e-01\n",
      "  -8.05028021e-01 -2.18944931e+00  2.37953514e-01 -1.92798293e+00\n",
      "  -6.70057952e-01  2.18946052e+00 -2.25885510e-01 -1.23372900e+00\n",
      "  -3.16569537e-01  5.62324882e-01  1.14267766e-01 -1.55180991e-01\n",
      "   1.44251257e-01  2.07275558e+00  2.67427778e+00 -5.46955824e-01\n",
      "  -3.80340666e-02  1.14029634e+00 -2.99968690e-01  1.30501837e-01\n",
      "   8.81952107e-01  2.13491321e-02 -2.11736247e-01  1.35693431e-01\n",
      "  -5.45673430e-01 -8.63421202e-01  8.75207484e-02  1.87347722e+00\n",
      "  -1.58096075e-01 -1.11444342e+00  7.72454441e-02 -2.75236905e-01\n",
      "   6.42945468e-02 -1.19112027e+00  1.91713691e-01  1.40523386e+00\n",
      "   1.71315372e-02 -2.46442601e-01  7.82587528e-01 -8.24722648e-03\n",
      "  -3.10723877e+00 -6.35320246e-02  7.46774077e-02  9.58823740e-01\n",
      "  -1.41064212e-01  2.20092967e-01 -2.01072320e-01 -6.15379810e-01]\n",
      " [-1.88513488e-01 -2.54772604e-02 -1.52812004e-02  1.45619288e-01\n",
      "  -6.80238008e-03  7.39129782e-02  2.56675631e-01  1.38316974e-01\n",
      "   2.62297750e-01 -1.51860490e-01  1.72050834e-01  1.25700223e+00\n",
      "  -2.25576818e-01  8.13420713e-01 -9.75083113e-02 -1.47678390e-01\n",
      "   8.68546546e-01  2.95454097e+00  1.95730507e-01  2.37316346e+00\n",
      "   1.18530595e+00 -8.62990737e-01 -7.19262660e-01  1.42840815e+00\n",
      "  -5.47604144e-01 -7.86924601e-01  2.73253351e-01  2.47876346e-02\n",
      "  -2.20189482e-01 -1.40494454e+00 -4.76814896e-01  4.56915915e-01\n",
      "  -1.21569961e-01 -9.17642117e-01  6.45191967e-02 -2.38029137e-01\n",
      "   4.96059060e-02 -2.73281813e-01  1.70667335e-01  1.32836103e-01\n",
      "  -9.03631926e-01  5.43848991e-01 -1.56995386e-01 -1.67732859e+00\n",
      "   1.59184933e-02  5.97346187e-01 -4.38342243e-02 -1.88763440e-02\n",
      "   1.51377499e-01  3.81752157e+00  2.03141838e-01 -5.37736237e-01\n",
      "   2.67421633e-01  3.94990444e-02  2.02314958e-01 -1.82626784e-01\n",
      "   2.30582908e-01  1.02198780e-01  5.72974980e-02 -6.70979381e-01\n",
      "  -2.49714613e-01  1.06245649e+00 -1.95929810e-01 -2.88139558e+00]\n",
      " [-2.43286505e-01  2.24852294e-01  1.04356796e-01  2.22470236e+00\n",
      "   1.92777783e-01 -7.84866214e-02  7.69054890e-02 -2.12727450e-02\n",
      "   2.63853312e+00  2.33166903e-01  2.02437222e-01  3.51268387e+00\n",
      "   2.72184461e-01 -5.03374279e-01  1.08914077e-01  5.49048185e-03\n",
      "   2.80106831e+00  4.01408768e+00  1.94553405e-01  3.85990119e+00\n",
      "   1.14626944e+00  8.58818352e-01 -3.92076164e-01  2.35334826e+00\n",
      "  -1.85525656e+00  1.99315250e-01  1.25328511e-01 -1.49298310e-01\n",
      "  -2.17214540e-01  6.72012866e-02 -1.13557935e+00  3.51761542e-02\n",
      "   7.67261088e-02 -2.13618636e-01 -1.08401842e-01  5.20463586e-02\n",
      "  -1.01825774e+00 -1.34954572e-01  2.71029808e-02 -2.04966158e-01\n",
      "  -1.05620480e+00  1.22420597e+00  2.41423637e-01 -1.87862724e-01\n",
      "  -1.65692955e-01 -1.52772769e-01 -3.57452780e-02  1.28285915e-01\n",
      "  -2.28996992e-01  9.63790119e-01 -7.58031011e-03 -8.75835061e-01\n",
      "   1.60228908e-02 -2.06717744e-01 -3.57741445e-01 -1.21121451e-01\n",
      "   1.65758967e+00  2.49726027e-01 -2.53202915e-02 -1.60994411e+00\n",
      "  -6.96860850e-02 -5.24828196e-01 -1.96590006e-01  1.17064416e+00]\n",
      " [-1.26530468e-01 -8.44144374e-02  2.71338195e-01  7.37806857e-01\n",
      "  -1.76376820e-01 -3.34122032e-02  6.68993592e-03 -2.32916579e-01\n",
      "  -3.33747834e-01 -7.36426115e-02 -2.38408059e-01  1.73031127e+00\n",
      "   1.33337051e-01  4.43286926e-01 -1.16434097e-02 -2.33590603e-03\n",
      "   1.30679452e+00  2.55522919e+00  3.58572304e-02  2.47189713e+00\n",
      "   2.21055055e+00 -1.03552246e+00 -1.31590176e+00  2.63165236e+00\n",
      "  -6.06007695e-01 -8.06622624e-01 -2.20020294e-01 -4.82396483e-02\n",
      "   1.93337649e-01 -1.02201951e+00 -4.06350613e-01  2.17025474e-01\n",
      "   2.08573848e-01 -6.12827539e-01 -6.49958849e-03  2.07977891e-02\n",
      "   6.10248506e-01 -2.57090002e-01  1.53772011e-01 -2.53182232e-01\n",
      "  -1.92871380e+00  8.40610862e-01  1.04890734e-01 -2.26046729e+00\n",
      "  -7.26714134e-02  7.92022884e-01 -1.37703046e-01 -7.42022842e-02\n",
      "  -1.19420335e-01  3.44747663e+00  2.71991104e-01 -3.03521216e-01\n",
      "   5.54111600e-02  2.04461813e-02  1.40235937e+00 -1.62498295e-01\n",
      "  -5.34262545e-02 -1.57641590e-01  1.07198954e-01 -5.96979320e-01\n",
      "   2.03022867e-01  7.43141115e-01  1.32378072e-01 -2.82970190e+00]\n",
      " [-7.36265779e-02 -2.17569932e-01 -1.32148102e-01  2.09756806e-01\n",
      "   4.71469760e-02 -2.74811774e-01  1.26138866e-01 -7.07204938e-01\n",
      "  -5.31806707e-01  9.63659585e-02  2.71142632e-01  2.53054237e+00\n",
      "   1.46997631e-01  1.82567215e+00  2.31569141e-01  2.70532072e-02\n",
      "   2.20022821e+00  4.75006294e+00 -1.24750301e-01  4.38318300e+00\n",
      "   3.09052992e+00 -2.51499772e+00 -2.22359300e+00  4.49289846e+00\n",
      "  -4.42312092e-01 -1.38864589e+00  1.77657604e-01 -1.62072182e-01\n",
      "   1.25756979e-01 -3.18381834e+00 -9.27242637e-01 -1.31311372e-01\n",
      "   1.35522127e-01 -1.08491182e+00 -9.08948854e-02  2.11727530e-01\n",
      "   9.41747487e-01 -1.95815876e-01 -2.70364016e-01  2.26595253e-01\n",
      "  -3.60915923e+00  6.84959173e-01 -1.52367532e-01 -4.42748737e+00\n",
      "   1.19400173e-01  9.92186725e-01  2.36253828e-01  1.23358607e-01\n",
      "  -1.62466154e-01  4.98256159e+00  2.50730664e-01 -1.98550344e-01\n",
      "   2.56988078e-01  5.98618388e-02  1.85807323e+00 -2.39847213e-01\n",
      "   4.71449643e-01 -1.49848655e-01 -5.88256121e-02 -7.61996984e-01\n",
      "   5.87474704e-02  1.36959672e+00 -2.36389592e-01 -4.33577394e+00]\n",
      " [-3.42193991e-02  2.58035630e-01 -3.58187407e-02 -5.64480424e-01\n",
      "  -1.79393560e-01 -1.26770437e-02 -1.08025149e-01  2.99800563e+00\n",
      "  -3.28389078e-01 -1.16852894e-01  2.36539274e-01 -1.78092754e+00\n",
      "  -2.63869762e-04 -2.57164329e-01 -4.69261408e-03 -1.15228906e-01\n",
      "   4.45183188e-01 -2.36620498e+00  2.41172045e-01 -2.82939363e+00\n",
      "  -2.66391468e+00 -2.29721665e+00 -1.51508033e+00  1.96052819e-01\n",
      "   2.47096348e+00 -1.09455514e+00 -9.69713032e-02 -2.45544344e-01\n",
      "  -2.71787733e-01 -1.81637430e+00 -1.47576225e+00  2.78950959e-01\n",
      "  -1.89668238e-02 -1.95365381e+00  5.08160703e-02 -1.03937477e-01\n",
      "  -1.02607989e+00  1.90297335e-01 -1.66600481e-01  1.02987379e-01\n",
      "   1.10793340e+00 -1.06482697e+00 -1.96756840e-01  3.12586331e+00\n",
      "  -1.63368493e-01 -1.15416384e+00  1.92542493e-01  2.34199971e-01\n",
      "  -5.49366921e-02 -6.39740080e-02  6.39072657e-02 -1.89941406e+00\n",
      "  -7.12402165e-02 -1.35832801e-01 -1.35181010e+00 -1.39697462e-01\n",
      "   5.40003851e-02  5.96730709e-02  1.14090681e-01  1.89500773e+00\n",
      "   1.43999994e-01  1.97662926e+00 -9.17505324e-02 -9.95665729e-01]\n",
      " [ 1.66914493e-01  2.55559772e-01  1.49070233e-01 -1.01722026e+00\n",
      "  -2.37155914e-01  2.61061817e-01  2.53774673e-01  7.90495813e-01\n",
      "  -5.37361860e-01  1.61855221e-02  4.70117331e-02 -2.69410086e+00\n",
      "   2.54955679e-01 -1.93546665e+00 -1.25686228e-02 -2.70074785e-01\n",
      "  -2.73788810e+00 -1.44244611e+00 -1.16032064e-02 -1.43560863e+00\n",
      "  -3.98627543e+00  3.52232003e+00  2.41298604e+00 -3.20225334e+00\n",
      "   3.53866130e-01  3.48756385e+00 -1.10735595e-02  1.13837600e-01\n",
      "  -1.79055095e-01  8.18092060e+00 -6.45637155e-01  6.16947889e-01\n",
      "   1.42470121e-01  1.55139148e+00  6.58456683e-02  2.56603032e-01\n",
      "  -1.17811930e+00  2.29309410e-01  3.26565765e-02 -2.28810251e-01\n",
      "   2.31411672e+00 -1.32836676e+00  1.87025726e-01  6.93669701e+00\n",
      "  -1.56998143e-01 -9.50697482e-01 -1.11037195e-02 -1.30479634e-01\n",
      "   2.33440906e-01  1.50045645e+00  2.63719708e-01 -1.51842201e+00\n",
      "  -1.61569864e-01  9.23991799e-02 -2.12202787e+00  2.21428096e-01\n",
      "   1.08151627e+00 -7.93658942e-02  3.76423895e-02  1.08754647e+00\n",
      "   2.67998487e-01 -2.21845984e+00 -5.43357432e-02  3.40946889e+00]\n",
      " [-3.15420926e-02  1.61360532e-01  1.60012245e-02  3.82275295e+00\n",
      "  -1.32128179e-01  1.87415153e-01 -1.12553254e-01  1.34758759e+00\n",
      "   3.75217485e+00  2.52910286e-01 -2.47394741e-01  3.85029602e+00\n",
      "  -1.23104572e-01 -2.66543436e+00 -2.25808904e-01 -1.08662099e-01\n",
      "   1.20366656e-03  5.09086490e-01  1.91576153e-01  1.41807640e+00\n",
      "  -1.44654238e+00  4.38202572e+00  2.38691568e+00 -2.81500077e+00\n",
      "  -1.52005506e+00  7.29948878e-01  2.52086908e-01 -1.70425206e-01\n",
      "  -4.83223051e-02  6.50011063e-01 -7.80346870e-01 -9.87243891e-01\n",
      "  -8.69351774e-02  3.02755952e+00  8.45996439e-02  2.05651790e-01\n",
      "  -2.39288855e+00  1.95656419e-01  2.68932432e-01 -1.40353471e-01\n",
      "  -5.96432900e-03  2.26667237e+00  2.03599334e-02 -1.38019073e+00\n",
      "  -1.79479361e-01 -2.24755263e+00 -2.52227455e-01  1.85636312e-01\n",
      "   2.30600625e-01 -2.79188561e+00  2.20321417e-02 -5.60799718e-01\n",
      "  -1.24418750e-01 -1.90438330e-01 -1.64761293e+00  9.91576612e-02\n",
      "   3.47871709e+00 -2.10693449e-01 -6.54139072e-02 -2.35553098e+00\n",
      "   2.53879577e-01 -2.47836590e+00  9.40196216e-02  2.93016052e+00]\n",
      " [ 2.16996312e-01  5.52365780e-02  2.53506035e-01 -2.09764857e-02\n",
      "  -2.62960255e-01 -1.33733571e-01 -2.65670955e-01 -1.73839176e+00\n",
      "  -2.88404644e-01 -7.25857913e-02  5.78128099e-02  3.44183731e+00\n",
      "  -2.42880970e-01  2.14347053e+00  2.01503143e-01  2.40212649e-01\n",
      "   3.64797926e+00  6.25778294e+00 -9.36692059e-02  5.01445961e+00\n",
      "   5.26022434e+00 -3.12124300e+00 -3.48555589e+00  7.03850460e+00\n",
      "  -6.83520973e-01 -1.48206174e+00  4.07107770e-02 -3.10575347e-02\n",
      "   1.13079548e-01 -3.24981332e+00 -1.04384887e+00  6.69997573e-01\n",
      "  -4.17279005e-02 -1.97824168e+00  1.39109820e-01 -7.22730458e-02\n",
      "   3.01429915e+00 -4.27973270e-03 -1.23356946e-01 -1.15337059e-01\n",
      "  -4.15128756e+00 -2.74093240e-01  7.83833861e-03 -4.35103416e+00\n",
      "   2.60225743e-01  2.19022799e+00 -3.97320241e-02 -9.80528891e-02\n",
      "  -4.31627035e-04  8.02766800e+00 -1.18772149e-01  4.90432769e-01\n",
      "   5.99016547e-02 -2.26557538e-01  3.70338535e+00 -1.67342231e-01\n",
      "  -8.56947899e-01 -4.21682000e-02  1.47307366e-01 -5.11155963e-01\n",
      "   1.56323940e-01  2.89998317e+00  2.74090499e-01 -6.87864399e+00]\n",
      " [ 9.94312465e-02 -1.99227765e-01  2.72901982e-01 -8.34429264e-01\n",
      "  -3.98957729e-02 -2.16026321e-01  5.85922301e-02 -6.48046851e-01\n",
      "  -2.39938088e-02 -8.68356973e-02 -1.59501195e-01 -1.41739249e+00\n",
      "  -2.73771465e-01 -1.29103684e+00 -1.07932031e-01  7.96166062e-03\n",
      "  -1.29456639e+00 -2.14400339e+00 -9.03920680e-02 -2.05045462e+00\n",
      "  -1.04136276e+00  2.27556729e+00  1.77115679e-01 -1.47020805e+00\n",
      "  -2.91325212e-01  3.45983595e-01  1.53969258e-01 -1.21768653e-01\n",
      "  -6.89626634e-02  2.26440620e+00  2.64545536e+00 -3.57025594e-01\n",
      "   2.46816009e-01  1.39205122e+00 -1.34324700e-01 -2.21126840e-01\n",
      "   9.44514632e-01  2.29816645e-01  1.54025003e-01 -3.68077308e-02\n",
      "  -5.31772017e-01 -1.01282716e+00  1.75468951e-01  2.04405260e+00\n",
      "   1.44354224e-01 -1.22480345e+00  1.93218857e-01  2.05966264e-01\n",
      "   2.11959660e-01 -1.11509383e+00 -2.51141727e-01  1.32251310e+00\n",
      "   1.22942150e-01 -2.67434895e-01  9.44643795e-01 -1.53839946e-01\n",
      "  -2.85639906e+00  6.81351125e-02  2.62297958e-01  1.06934762e+00\n",
      "  -1.79476410e-01  3.55717719e-01 -1.77429020e-01 -9.79629934e-01]]\n",
      "  Weights 2 shape: (64,)\n",
      "[ 0.          0.          0.          0.45501623  0.          0.\n",
      "  0.         -0.01926145  0.88039243  0.          0.          0.03786324\n",
      "  0.         -1.1490153  -0.06134517  0.         -0.02747952 -0.4771579\n",
      "  0.         -0.57777715 -0.6441528   1.2570872  -0.8944461   0.09302324\n",
      " -0.13206734  0.36924577  0.         -0.05981895  0.          1.3351504\n",
      "  1.6532567  -0.19282486  0.          0.43835482 -0.08234014  0.\n",
      "  0.22979026  0.         -0.01190149  0.         -1.1678513  -0.29515144\n",
      "  0.          0.8523909   0.         -1.1083561   0.          0.\n",
      "  0.         -0.04213433  0.          0.7406155   0.          0.\n",
      "  0.6190553   0.         -1.946713    0.          0.          0.52776027\n",
      "  0.          0.36035025  0.         -1.1791935 ]\n",
      "Layer: dense_4\n",
      "  Weights 1 shape: (64, 32)\n",
      "[[ 0.14876127  0.08323455 -0.08776742 ... -0.24016356  0.18216085\n",
      "   0.00345445]\n",
      " [ 0.13603127  0.1997813  -0.02563053 ...  0.04916513  0.12429219\n",
      "   0.07067752]\n",
      " [ 0.06421447  0.2449395   0.05527496 ...  0.03413165 -0.24439985\n",
      "   0.19202751]\n",
      " ...\n",
      " [ 0.09823566 -0.07773874 -0.14078091 ...  0.17213647  0.23925821\n",
      "   0.04521678]\n",
      " [ 0.12869507 -0.19138038  0.11298323 ...  0.0780282   0.16228461\n",
      "   0.13102132]\n",
      " [-0.19416861 -0.28098744 -0.08793242 ...  0.11083546 -0.19686331\n",
      "  -0.1999558 ]]\n",
      "  Weights 2 shape: (32,)\n",
      "[-0.07916664 -0.19840609 -0.11524243  0.75072986 -0.1643837  -0.45472464\n",
      "  0.09202853  0.8677092  -0.12134156 -0.34278145 -0.51335055  0.11294099\n",
      "  0.02872848 -0.23913127  0.7077672  -0.1069854  -0.12595858  1.0413071\n",
      " -0.06389597 -0.25308254 -0.13143033 -0.06479149  0.29848358 -0.56116754\n",
      " -0.1398847   0.26484466  1.1534101  -0.28855947 -0.14940673 -0.16358274\n",
      "  0.11687199  0.93379575]\n",
      "Layer: dense_5\n",
      "  Weights 1 shape: (32, 5)\n",
      "[[ 0.12560314 -0.27229995 -0.18238373 -0.08603697 -0.10605691]\n",
      " [-0.334359   -0.20875795  0.45496312 -0.0116587  -0.10285548]\n",
      " [ 0.23551275 -0.10724006 -0.2932155   0.25895777 -0.16699333]\n",
      " [-0.37042278  0.14015587 -0.28892347  0.1685056   0.3679266 ]\n",
      " [ 0.09820209 -0.21948715  0.33529708 -0.05112631 -0.20587467]\n",
      " [ 0.11864327 -0.18752071 -0.20011997 -0.1178778   0.07060637]\n",
      " [-0.5289284  -0.38471225  0.24549    -0.04521967  0.45476106]\n",
      " [ 0.16827248  0.272257   -1.5395249   0.13719206  0.03176365]\n",
      " [ 0.06547172 -0.21463595 -0.14956506 -0.19647092  0.29628524]\n",
      " [-1.0187886   0.1651438   0.40093166  0.18216243 -0.25230926]\n",
      " [-0.25028008 -0.34099805  0.23110728  0.21606264  0.08611165]\n",
      " [ 0.07232917 -0.04513858  0.49413094 -0.08126195 -0.14701936]\n",
      " [ 0.22447401 -0.9490964   0.04112966 -0.37554666 -0.24934426]\n",
      " [ 0.13890174  0.3851669  -0.49737674  0.14224687 -0.08115105]\n",
      " [ 0.35679317 -0.15809274  0.9951271  -0.37333605 -0.01198883]\n",
      " [-0.05973088 -0.18474987  0.34029692 -0.03275395 -0.24801016]\n",
      " [ 0.23832846 -0.1241437   0.45518634  0.34166586  0.28948528]\n",
      " [-0.08052795  0.0270824  -0.40812823 -0.07135621  0.45756307]\n",
      " [ 0.01640727 -0.0374389  -0.19844177 -0.0611229  -0.17267425]\n",
      " [-0.5333927  -0.44748753 -0.69610906 -0.07162584  0.1115515 ]\n",
      " [-0.527622   -0.16432217 -0.05782802 -0.2906952   0.31906992]\n",
      " [ 0.29434237 -0.52343494 -0.266856   -0.16523443  0.22918986]\n",
      " [ 1.6600355  -0.22143477  0.1301873  -0.5171485  -0.250029  ]\n",
      " [-0.03177562 -0.15201774 -0.36997992 -0.1483101  -0.66228116]\n",
      " [-0.09157465  0.2689076   0.10554801 -0.03581025 -0.20869192]\n",
      " [ 0.12342206  0.2553955   0.32312375 -0.10603085  0.06153262]\n",
      " [-1.4491615  -0.38322806 -0.93309     0.47135141 -1.1045166 ]\n",
      " [-0.4215367   0.08246499  0.06039181  0.13814262 -0.01584405]\n",
      " [ 0.1759606   0.01763318  0.10783935 -0.15388802 -0.07969621]\n",
      " [-0.27255505  0.30820262 -0.32310882  0.23866197  0.14495075]\n",
      " [ 0.01861693  0.08100945 -0.8964573   0.28115615 -0.1275079 ]\n",
      " [-0.5332642   0.01879001 -0.2635222  -0.11271053  0.3709855 ]]\n",
      "  Weights 2 shape: (5,)\n",
      "[ 0.2824973  -1.3044969   2.574374   -0.9475979   0.46681222]\n",
      "Weights have been saved to model_weights.json\n"
     ]
    }
   ],
   "id": "ce110000-1111-2222-3333-ffffff000011"
  },
  {
   "cell_type": "code",
   "id": "cea8e81d-c802-4455-9fb4-a02a75f7d935",
   "metadata": {
    "language": "python",
    "name": "cell19"
   },
   "outputs": [],
   "source": "# Upload model weights JSON file to Snowflake stage\nsession.file.put(f'model_weights2_{version}.json', f\"@client2_model_stage/{version}\")",
   "execution_count": null
  },
  {
   "cell_type": "code",
   "source": [
    "y_pred_prob=client_model2.predict(x_test)\n",
    "# For sparse categorical crossentropy, we need to use argmax to get class labels\n",
    "y_pred = np.argmax(y_pred_prob, axis=1)\n",
    "from sklearn.preprocessing import label_binarize\n",
    "n_classes=y_pred_prob.shape[1]\n",
    "y1_test_binarized=label_binarize(y_test,classes=np.arange(n_classes))\n",
    "\n",
    "from sklearn.metrics import roc_curve, auc\n",
    "import matplotlib.pyplot as plt\n",
    "fpr=dict()\n",
    "tpr=dict()\n",
    "roc_auc=dict()\n",
    "\n",
    "for i in range(n_classes):\n",
    "    fpr[i],tpr[i],_=roc_curve(y1_test_binarized[:,i],y_pred_prob[:,i])\n",
    "    roc_auc[i]=auc(fpr[i],tpr[i])\n",
    "\n",
    "plt.figure()\n",
    "for i in range(n_classes):\n",
    "    plt.plot(fpr[i],tpr[i],label=f'class {i} (AUC={roc_auc[i]:0.2f})')\n",
    "\n",
    "plt.plot([0, 1], [0, 1], 'k--')\n",
    "plt.xlim([0.0, 1.0])\n",
    "plt.ylim([0.0, 1.05])\n",
    "plt.xlabel('False Positive Rate')\n",
    "plt.ylabel('True Positive Rate')\n",
    "plt.title('Receiver Operating Characteristic for Multi-Class')\n",
    "plt.legend(loc='lower right')\n",
    "plt.show()"
   ],
   "metadata": {
    "colab": {
     "base_uri": "https://localhost:8080/",
     "height": 490
    },
    "id": "s0zzo-7CuCvF",
    "outputId": "65f8b002-33f1-460b-ee9e-c79dcb115f08",
    "name": "cell13",
    "language": "python"
   },
   "execution_count": null,
   "outputs": [
    {
     "output_type": "stream",
     "name": "stdout",
     "text": [
      "\u001b[1m105/105\u001b[0m \u001b[32m━━━━━━━━━━━━━━━━━━━━\u001b[0m\u001b[37m\u001b[0m \u001b[1m0s\u001b[0m 2ms/step\n"
     ]
    },
    {
     "output_type": "display_data",
     "data": {
      "text/plain": [
       "<Figure size 640x480 with 1 Axes>"
      ],
      "image/png": "[encoded data removed]"
     },
     "metadata": {}
    }
   ],
   "id": "ce110000-1111-2222-3333-ffffff000012"
  },
  {
   "cell_type": "code",
   "source": [
    "# Ensure y_test is in multiclass format (if it was one-hot encoded)\n",
    "if y_test.ndim > 1 and y_test.shape[1] > 1:\n",
    "    y_test = np.argmax(y_test, axis=1)\n",
    "\n",
    "# Ensure y_pred is in multiclass format (if it was one-hot encoded)\n",
    "if y_pred.ndim > 1 and y_pred.shape[1] > 1:\n",
    "    y_pred = np.argmax(y_pred, axis=1)\n",
    "\n",
    "# Generate the confusion matrix\n",
    "conf_matrix = confusion_matrix(y_test, y_pred)\n",
    "\n",
    "# Generate a classification report\n",
    "class_report = classification_report(y_test, y_pred, target_names=[f'Class {i}' for i in range(5)], zero_division=0)\n",
    "\n",
    "conf_matrix, class_report"
   ],
   "metadata": {
    "colab": {
     "base_uri": "https://localhost:8080/"
    },
    "id": "qLKLyzpWuRJJ",
    "outputId": "216105f9-68c6-4b19-d4fe-920d91354876",
    "name": "cell14",
    "language": "python"
   },
   "execution_count": null,
   "outputs": [
    {
     "output_type": "execute_result",
     "data": {
      "text/plain": [
       "(array([[  71,    0,    0,    0,    0],\n",
       "        [   0,   14,    0,    0,    0],\n",
       "        [   0,    0,  211,    0,    0],\n",
       "        [   0,    0,    0,  702,    0],\n",
       "        [   0,    1,    0,    0, 2337]]),\n",
       " '              precision    recall  f1-score   support\\n\\n     Class 0       1.00      1.00      1.00        71\\n     Class 1       0.93      1.00      0.97        14\\n     Class 2       1.00      1.00      1.00       211\\n     Class 3       1.00      1.00      1.00       702\\n     Class 4       1.00      1.00      1.00      2338\\n\\n    accuracy                           1.00      3336\\n   macro avg       0.99      1.00      0.99      3336\\nweighted avg       1.00      1.00      1.00      3336\\n')"
      ]
     },
     "metadata": {},
     "execution_count": 15
    }
   ],
   "id": "ce110000-1111-2222-3333-ffffff000013"
  },
  {
   "cell_type": "code",
   "source": [
    "\n",
    "import seaborn as sns\n",
    "# Plot confusion matrix\n",
    "plt.figure(figsize=(4, 2))\n",
    "sns.heatmap(conf_matrix, annot=True, fmt='d', cmap='Blues', cbar=False,\n",
    "            xticklabels=[f'Class {i}' for i in range(n_classes)],\n",
    "            yticklabels=[f'Class {i}' for i in range(n_classes)])\n",
    "plt.xlabel('Predicted Label')\n",
    "plt.ylabel('True Label')\n",
    "plt.title('Confusion Matrix')\n",
    "plt.show()"
   ],
   "metadata": {
    "colab": {
     "base_uri": "https://localhost:8080/",
     "height": 256
    },
    "id": "-nL0iwMguV2Q",
    "outputId": "604cdf06-1f22-440a-e2e1-435f723a7d77",
    "name": "cell15",
    "language": "python"
   },
   "execution_count": null,
   "outputs": [
    {
     "output_type": "display_data",
     "data": {
      "text/plain": [
       "<Figure size 400x200 with 1 Axes>"
      ],
      "image/png": "[encoded data removed]"
     },
     "metadata": {}
    }
   ],
   "id": "ce110000-1111-2222-3333-ffffff000014"
  },
  {
   "cell_type": "code",
   "source": "# Calculate evaluation metrics\naccuracy = accuracy_score(y_test, y_pred)\nprecision = precision_score(y_test, y_pred, average='weighted',zero_division=1)\nrecall = recall_score(y_test, y_pred, average='weighted')\nf1 = f1_score(y_test, y_pred, average='weighted')\n\n# Print evaluation metrics\nprint(f\"Accuracy: {accuracy:.4f}\")\nprint(f\"Precision: {precision:.4f}\")\nprint(f\"Recall: {recall:.4f}\")\nprint(f\"F1 Score: {f1:.4f}\")",
   "metadata": {
    "colab": {
     "base_uri": "https://localhost:8080/"
    },
    "id": "WUBAqg_XuZqy",
    "outputId": "a4e057c3-1562-4e50-e926-e4e309a11e3e",
    "name": "cell16",
    "language": "python"
   },
   "execution_count": null,
   "outputs": [
    {
     "output_type": "stream",
     "name": "stdout",
     "text": [
      "Accuracy: 0.9997\n",
      "Precision: 0.9997\n",
      "Recall: 0.9997\n",
      "F1 Score: 0.9997\n"
     ]
    }
   ],
   "id": "ce110000-1111-2222-3333-ffffff000015"
  }
 ]
}