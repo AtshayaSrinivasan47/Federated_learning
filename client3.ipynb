{
 "metadata": {
  "colab": {
   "provenance": []
  },
  "kernelspec": {
   "display_name": "Python 3",
   "name": "python3"
  }
 },
 "nbformat_minor": 0,
 "nbformat": 4,
 "cells": [
  {
   "cell_type": "code",
   "source": "import pandas as pd\nimport io\nimport numpy as np\n# import joblib\nfrom sklearn.preprocessing import LabelEncoder,StandardScaler,label_binarize\nfrom sklearn.impute import SimpleImputer\nfrom sklearn.model_selection import train_test_split,StratifiedShuffleSplit\nimport matplotlib.pyplot as plt\nimport seaborn as sns\nimport tensorflow.keras\nfrom tensorflow.keras.models import Sequential\nfrom tensorflow.keras.layers import Dense, Activation\nfrom tensorflow.keras.callbacks import EarlyStopping\nfrom tensorflow.keras.optimizers import Adam\nfrom tensorflow.keras.callbacks import ModelCheckpoint\nimport re\nfrom sklearn.metrics import precision_score, recall_score, accuracy_score, f1_score\nfrom sklearn.preprocessing import OneHotEncoder\nfrom sklearn.metrics import confusion_matrix, classification_report\n\nfrom snowflake.snowpark.context import get_active_session\nsession = get_active_session()",
   "metadata": {
    "id": "phBlx51irJbf",
    "name": "cell1",
    "language": "python",
    "collapsed": false
   },
   "execution_count": 18,
   "outputs": [],
   "id": "ce110000-1111-2222-3333-ffffff000000"
  },
  {
   "cell_type": "code",
   "source": "def fetch_from_table_data(session,table_name):\n    table_data = session.table(table_name)\n    return table_data\n\ndata_h3=fetch_from_table_data(session,\"H3\")",
   "metadata": {
    "id": "UlY1g5O9rhDM",
    "name": "cell2",
    "language": "python"
   },
   "execution_count": 20,
   "outputs": [],
   "id": "ce110000-1111-2222-3333-ffffff000001"
  },
  {
   "cell_type": "code",
   "source": "def create_dataframe(data):\n    df=data.to_pandas()\n    return df\n\ndf_H3=create_dataframe(data_h3)\n",
   "metadata": {
    "colab": {
     "base_uri": "https://localhost:8080/",
     "height": 366
    },
    "id": "dMUWRR5dmIGo",
    "outputId": "b655f13f-7e35-4b4a-91db-08ed9c67e6ea",
    "name": "cell3",
    "language": "python"
   },
   "execution_count": 21,
   "outputs": [
    {
     "output_type": "execute_result",
     "data": {
      "text/plain": [
       "NO                16681\n",
       "TIME              16681\n",
       "SOURCE            16681\n",
       "DESTINATION       16681\n",
       "PROTOCOL          16681\n",
       "LENGTH            16681\n",
       "INFO              16681\n",
       "TYPE              16681\n",
       "TYPE_OF_ATTACK    16681\n",
       "dtype: int64"
      ],
      "text/html": [
       "<div>\n",
       "<style scoped>\n",
       "    .dataframe tbody tr th:only-of-type {\n",
       "        vertical-align: middle;\n",
       "    }\n",
       "\n",
       "    .dataframe tbody tr th {\n",
       "        vertical-align: top;\n",
       "    }\n",
       "\n",
       "    .dataframe thead th {\n",
       "        text-align: right;\n",
       "    }\n",
       "</style>\n",
       "<table border=\"1\" class=\"dataframe\">\n",
       "  <thead>\n",
       "    <tr style=\"text-align: right;\">\n",
       "      <th></th>\n",
       "      <th>0</th>\n",
       "    </tr>\n",
       "  </thead>\n",
       "  <tbody>\n",
       "    <tr>\n",
       "      <th>NO</th>\n",
       "      <td>16681</td>\n",
       "    </tr>\n",
       "    <tr>\n",
       "      <th>TIME</th>\n",
       "      <td>16681</td>\n",
       "    </tr>\n",
       "    <tr>\n",
       "      <th>SOURCE</th>\n",
       "      <td>16681</td>\n",
       "    </tr>\n",
       "    <tr>\n",
       "      <th>DESTINATION</th>\n",
       "      <td>16681</td>\n",
       "    </tr>\n",
       "    <tr>\n",
       "      <th>PROTOCOL</th>\n",
       "      <td>16681</td>\n",
       "    </tr>\n",
       "    <tr>\n",
       "      <th>LENGTH</th>\n",
       "      <td>16681</td>\n",
       "    </tr>\n",
       "    <tr>\n",
       "      <th>INFO</th>\n",
       "      <td>16681</td>\n",
       "    </tr>\n",
       "    <tr>\n",
       "      <th>TYPE</th>\n",
       "      <td>16681</td>\n",
       "    </tr>\n",
       "    <tr>\n",
       "      <th>TYPE_OF_ATTACK</th>\n",
       "      <td>16681</td>\n",
       "    </tr>\n",
       "  </tbody>\n",
       "</table>\n",
       "</div><br><label><b>dtype:</b> int64</label>"
      ]
     },
     "metadata": {},
     "execution_count": 21
    }
   ],
   "id": "ce110000-1111-2222-3333-ffffff000002"
  },
  {
   "cell_type": "code",
   "source": "def preprocess_x(train_df,test_df):\n\n    # Drop unnecessary columns\n    train_df = train_df.drop(['NO', 'TIME', 'TYPE', 'SOURCE', 'DESTINATION'], axis=1)\n    test_df = test_df.drop(['NO', 'TIME', 'TYPE', 'SOURCE', 'DESTINATION'], axis=1)\n\n    # Analyze the 'INFO' column to create a new column based on the provided patterns\n\n    def determine_info_type(row):\n      # Initialize with default value\n      info_type = 'Normal'\n\n      rst_fin_pattern = r'RST|FIN'\n      psh_pattern = r'PSH'\n      syn_pattern = r'SYN'\n\n      protocols = ['DNS', 'LLC', 'UDP', 'DHCP', 'TLSv1.1', 'HTTP', 'TLSv1.2', 'OCSP']\n\n      if row['PROTOCOL'] == 'TCP' and row['LENGTH'] in [54, 66] and re.search(rst_fin_pattern, row['INFO']):\n          info_type = 'Nmap'\n      elif row['PROTOCOL'] == 'TCP' and re.search(psh_pattern, row['INFO']):\n          info_type = 'DoS'\n      elif row['PROTOCOL'] == 'TCP' and re.search(syn_pattern, row['INFO']):\n          info_type = 'Normal'\n      elif row['PROTOCOL'] == 'ICMP':\n          info_type = 'SMURF'\n      elif row['PROTOCOL'] == 'ARP':\n          info_type = 'ARP'\n      elif row['PROTOCOL'] in protocols:\n          info_type = 'Normal'\n\n      return info_type\n\n    # Apply the function to each row in the DataFrame\n    train_df['INFO_TYPE'] = train_df.apply(determine_info_type, axis=1)\n    test_df['INFO_TYPE'] = test_df.apply(determine_info_type, axis=1)\n\n    # One-hot encode PROTOCOL and INFO_Type\n    protocol_encoder = OneHotEncoder(sparse_output=False, handle_unknown='ignore')\n    info_type_encoder = OneHotEncoder(sparse_output=False, handle_unknown='ignore')\n\n    # Fit on train, transform on both train and test\n    protocol_encoder.fit(train_df[['PROTOCOL']])\n    one_hot_protocol_train = protocol_encoder.transform(train_df[['PROTOCOL']])\n    one_hot_protocol_test = protocol_encoder.transform(test_df[['PROTOCOL']])\n\n    info_type_encoder.fit(train_df[['INFO_TYPE']])\n    one_hot_info_type_train = info_type_encoder.transform(train_df[['INFO_TYPE']])\n    one_hot_info_type_test = info_type_encoder.transform(test_df[['INFO_TYPE']])\n\n    # Convert to DataFrame with appropriate column names\n    one_hot_protocol_train_df = pd.DataFrame(one_hot_protocol_train, columns=protocol_encoder.get_feature_names_out(['PROTOCOL']))\n    one_hot_protocol_test_df = pd.DataFrame(one_hot_protocol_test, columns=protocol_encoder.get_feature_names_out(['PROTOCOL']))\n\n    one_hot_info_type_train_df = pd.DataFrame(one_hot_info_type_train, columns=info_type_encoder.get_feature_names_out(['INFO_TYPE']))\n    one_hot_info_type_test_df = pd.DataFrame(one_hot_info_type_test, columns=info_type_encoder.get_feature_names_out(['INFO_TYPE']))\n\n    # Concatenate the one-hot encoded columns back to the DataFrames\n    final_train_df = pd.concat([train_df.reset_index(drop=True), one_hot_protocol_train_df, one_hot_info_type_train_df], axis=1)\n    final_test_df = pd.concat([test_df.reset_index(drop=True), one_hot_protocol_test_df, one_hot_info_type_test_df], axis=1)\n\n    # Drop the original columns\n    final_train_df.drop(['PROTOCOL', 'INFO_TYPE', 'INFO'], axis=1, inplace=True)\n    final_test_df.drop(['PROTOCOL', 'INFO_TYPE', 'INFO'], axis=1, inplace=True)\n    # final_csv_path = 'train.csv'\n    # final_train_df.to_csv(final_csv_path, index=False)\n    # final_csv_path = 'test.csv'\n    # final_test_df.to_csv(final_csv_path, index=False)\n    return final_train_df,final_test_df\n",
   "metadata": {
    "id": "GG-h_aegevVx",
    "name": "cell4",
    "language": "python"
   },
   "execution_count": 22,
   "outputs": [],
   "id": "ce110000-1111-2222-3333-ffffff000003"
  },
  {
   "cell_type": "code",
   "source": "def preprocess_y(y):\n    # Initialize the encoder\n    onehot_encoder = OneHotEncoder(sparse_output=False)\n\n    # Fit and transform y_train\n    y_encoded = onehot_encoder.fit_transform(y.values.reshape(-1, 1))\n\n    # Get the class names (original labels)\n    class_names = onehot_encoder.categories_[0]\n\n    # Return both the encoded labels and the class names\n    return y_encoded, class_names",
   "metadata": {
    "id": "2PJ70GFWh64y",
    "name": "cell5",
    "language": "python"
   },
   "execution_count": 23,
   "outputs": [],
   "id": "ce110000-1111-2222-3333-ffffff000004"
  },
  {
   "cell_type": "code",
   "source": [
    "def data_stratified_split_train_test(df):\n",
    "    x=df.drop(['TYPE_OF_ATTACK'],axis=1)\n",
    "    y=df['TYPE_OF_ATTACK']\n",
    "\n",
    "    # Check protocol distribution\n",
    "    protocol_counts = df['PROTOCOL'].value_counts()\n",
    "    print(protocol_counts)  # Optional: To see the distribution\n",
    "\n",
    "    # Handle rare protocols if necessary\n",
    "    # For example, removing protocols with less than 2 occurrences\n",
    "    rare_protocols = protocol_counts[protocol_counts < 2].index\n",
    "    df_filtered = df[~df['PROTOCOL'].isin(rare_protocols)]\n",
    "\n",
    "    x_filtered = df_filtered.drop(['TYPE_OF_ATTACK'], axis=1)\n",
    "    y_filtered = df_filtered['TYPE_OF_ATTACK']\n",
    "\n",
    "    # Initialize StratifiedShuffleSplit\n",
    "    stratified_split = StratifiedShuffleSplit(n_splits=1, test_size=0.2, random_state=42)\n",
    "\n",
    "    # Perform the split\n",
    "    for train_index, test_index in stratified_split.split(x_filtered, df_filtered['PROTOCOL']):\n",
    "        x_train = x_filtered.iloc[train_index]\n",
    "        x_test = x_filtered.iloc[test_index]\n",
    "        y_train = y_filtered.iloc[train_index]\n",
    "        y_test = y_filtered.iloc[test_index]\n",
    "\n",
    "    return x_train,x_test,y_train,y_test\n",
    "\n",
    "x_train_raw,x_test_raw,y_train_raw,y_test_raw=data_stratified_split_train_test(df_H3)\n",
    "\n",
    "print(x_train_raw.shape)\n",
    "print(y_train_raw.shape)\n",
    "#preprocess the data\n",
    "x_train,x_test=preprocess_x(x_train_raw,x_test_raw)\n",
    "\n",
    "\n",
    "print(x_train.shape)\n",
    "print(x_test.shape)\n",
    "\n",
    "#preprocess the labels\n",
    "y_train, class_name=preprocess_y(y_train_raw)\n",
    "y_test,class_name=preprocess_y(y_test_raw)\n",
    "\n",
    "print(class_name)"
   ],
   "metadata": {
    "id": "sXlQODNPsPDb",
    "colab": {
     "base_uri": "https://localhost:8080/"
    },
    "outputId": "179786dd-d979-40bb-c26a-def114ce77b5",
    "name": "cell6",
    "language": "python"
   },
   "execution_count": 24,
   "outputs": [
    {
     "output_type": "stream",
     "name": "stdout",
     "text": [
      "PROTOCOL\n",
      "ICMP       11688\n",
      "TCP         3588\n",
      "TLSv1.2      838\n",
      "ARP          354\n",
      "DNS          174\n",
      "OCSP          20\n",
      "TLSv1.1       17\n",
      "DHCP           1\n",
      "HTTP           1\n",
      "Name: count, dtype: int64\n",
      "(13343, 8)\n",
      "(13343,)\n",
      "(13343, 13)\n",
      "(3336, 13)\n",
      "['ARP Spoofing' 'DoS Attack' 'Nmap Port Scan' 'No Attack' 'Smurf Attack']\n"
     ]
    },
    {
     "output_type": "stream",
     "name": "stderr",
     "text": [
      "/usr/local/lib/python3.10/dist-packages/sklearn/preprocessing/_encoders.py:975: FutureWarning: `sparse` was renamed to `sparse_output` in version 1.2 and will be removed in 1.4. `sparse_output` is ignored unless you leave `sparse` to its default value.\n",
      "  warnings.warn(\n",
      "/usr/local/lib/python3.10/dist-packages/sklearn/preprocessing/_encoders.py:975: FutureWarning: `sparse` was renamed to `sparse_output` in version 1.2 and will be removed in 1.4. `sparse_output` is ignored unless you leave `sparse` to its default value.\n",
      "  warnings.warn(\n",
      "/usr/local/lib/python3.10/dist-packages/sklearn/preprocessing/_encoders.py:975: FutureWarning: `sparse` was renamed to `sparse_output` in version 1.2 and will be removed in 1.4. `sparse_output` is ignored unless you leave `sparse` to its default value.\n",
      "  warnings.warn(\n",
      "/usr/local/lib/python3.10/dist-packages/sklearn/preprocessing/_encoders.py:975: FutureWarning: `sparse` was renamed to `sparse_output` in version 1.2 and will be removed in 1.4. `sparse_output` is ignored unless you leave `sparse` to its default value.\n",
      "  warnings.warn(\n"
     ]
    }
   ],
   "id": "ce110000-1111-2222-3333-ffffff000005"
  },
  {
   "cell_type": "code",
   "source": [
    "print(x_train.shape)\n",
    "print(y_train.shape)\n",
    "# print(x.shape)\n",
    "# print(y.shape)"
   ],
   "metadata": {
    "colab": {
     "base_uri": "https://localhost:8080/"
    },
    "id": "BPnZuHsalRDB",
    "outputId": "321d6517-4fb9-4aa0-987c-6f4aa2988e9f",
    "name": "cell7",
    "language": "python"
   },
   "execution_count": 25,
   "outputs": [
    {
     "output_type": "stream",
     "name": "stdout",
     "text": [
      "(13343, 13)\n",
      "(13343, 5)\n"
     ]
    }
   ],
   "id": "ce110000-1111-2222-3333-ffffff000006"
  },
  {
   "cell_type": "code",
   "source": "def create_model(input_dim):\n    model=Sequential([\n        Dense(64,input_dim=input_dim,activation='relu'),\n        Dense(32,activation='relu'),\n        Dense(5,activation='softmax')\n    ])\n    model.compile(optimizer=Adam(learning_rate=0.01),loss='categorical_crossentropy',metrics=['accuracy'])\n    return model\n\ndef client_training(x_train, y_train, input_dim):\n    model = create_model(input_dim)\n    \n    # Set up a checkpoint to save the best model based on validation accuracy\n    checkpoint = ModelCheckpoint(\n        'client_model3.h5',  # filepath where the model will be saved\n        monitor='val_accuracy',  # monitor validation accuracy\n        verbose=1,  # verbosity mode\n        save_best_only=True,  # only save when the monitored metric improves\n        mode='max'  # max mode to save the model with the highest accuracy\n    )\n\n    # Early stopping to prevent overfitting\n    early_stopping = EarlyStopping(monitor='val_loss', patience=10, mode='min', verbose=1)\n\n    # Fit the model with validation data\n    model.fit(x_train, y_train, epochs=500, batch_size=32, verbose=1, validation_split=0.2, callbacks=[checkpoint,early_stopping])\n    \n    return model\n",
   "metadata": {
    "id": "JEqsvSm9tXvH",
    "name": "cell8",
    "language": "python"
   },
   "execution_count": 26,
   "outputs": [],
   "id": "ce110000-1111-2222-3333-ffffff000007"
  },
  {
   "cell_type": "code",
   "source": [
    "client_model3=client_training(x_train,y_train,x_train.shape[1])\n",
    "client_model3.save('client_model3.h5')"
   ],
   "metadata": {
    "colab": {
     "base_uri": "https://localhost:8080/"
    },
    "id": "0E9vk7hOtdCF",
    "outputId": "7cec2992-c279-4b93-b738-bfd37e613363",
    "name": "cell9",
    "language": "python"
   },
   "execution_count": 28,
   "outputs": [
    {
     "output_type": "stream",
     "name": "stderr",
     "text": [
      "/usr/local/lib/python3.10/dist-packages/keras/src/layers/core/dense.py:87: UserWarning: Do not pass an `input_shape`/`input_dim` argument to a layer. When using Sequential models, prefer using an `Input(shape)` object as the first layer in the model instead.\n",
      "  super().__init__(activity_regularizer=activity_regularizer, **kwargs)\n"
     ]
    },
    {
     "output_type": "stream",
     "name": "stdout",
     "text": [
      "Epoch 1/10\n",
      "\u001b[1m417/417\u001b[0m \u001b[32m━━━━━━━━━━━━━━━━━━━━\u001b[0m\u001b[37m\u001b[0m \u001b[1m2s\u001b[0m 2ms/step - accuracy: 0.7281 - loss: 2.0526\n",
      "Epoch 2/10\n",
      "\u001b[1m417/417\u001b[0m \u001b[32m━━━━━━━━━━━━━━━━━━━━\u001b[0m\u001b[37m\u001b[0m \u001b[1m1s\u001b[0m 2ms/step - accuracy: 0.9934 - loss: 0.0834\n",
      "Epoch 3/10\n",
      "\u001b[1m417/417\u001b[0m \u001b[32m━━━━━━━━━━━━━━━━━━━━\u001b[0m\u001b[37m\u001b[0m \u001b[1m1s\u001b[0m 2ms/step - accuracy: 0.9928 - loss: 0.0504\n",
      "Epoch 4/10\n",
      "\u001b[1m417/417\u001b[0m \u001b[32m━━━━━━━━━━━━━━━━━━━━\u001b[0m\u001b[37m\u001b[0m \u001b[1m1s\u001b[0m 2ms/step - accuracy: 0.9887 - loss: 0.1138\n",
      "Epoch 5/10\n",
      "\u001b[1m417/417\u001b[0m \u001b[32m━━━━━━━━━━━━━━━━━━━━\u001b[0m\u001b[37m\u001b[0m \u001b[1m1s\u001b[0m 2ms/step - accuracy: 0.9925 - loss: 0.0368\n",
      "Epoch 6/10\n",
      "\u001b[1m417/417\u001b[0m \u001b[32m━━━━━━━━━━━━━━━━━━━━\u001b[0m\u001b[37m\u001b[0m \u001b[1m1s\u001b[0m 2ms/step - accuracy: 0.9938 - loss: 0.0242\n",
      "Epoch 7/10\n",
      "\u001b[1m417/417\u001b[0m \u001b[32m━━━━━━━━━━━━━━━━━━━━\u001b[0m\u001b[37m\u001b[0m \u001b[1m1s\u001b[0m 2ms/step - accuracy: 0.9936 - loss: 0.0325\n",
      "Epoch 8/10\n",
      "\u001b[1m417/417\u001b[0m \u001b[32m━━━━━━━━━━━━━━━━━━━━\u001b[0m\u001b[37m\u001b[0m \u001b[1m1s\u001b[0m 2ms/step - accuracy: 0.9931 - loss: 0.0414\n",
      "Epoch 9/10\n",
      "\u001b[1m417/417\u001b[0m \u001b[32m━━━━━━━━━━━━━━━━━━━━\u001b[0m\u001b[37m\u001b[0m \u001b[1m1s\u001b[0m 2ms/step - accuracy: 0.9917 - loss: 0.0452\n",
      "Epoch 10/10\n",
      "\u001b[1m417/417\u001b[0m \u001b[32m━━━━━━━━━━━━━━━━━━━━\u001b[0m\u001b[37m\u001b[0m \u001b[1m2s\u001b[0m 3ms/step - accuracy: 0.9947 - loss: 0.0287\n"
     ]
    },
    {
     "output_type": "stream",
     "name": "stderr",
     "text": [
      "WARNING:absl:You are saving your model as an HDF5 file via `model.save()` or `keras.saving.save_model(model)`. This file format is considered legacy. We recommend using instead the native Keras format, e.g. `model.save('my_model.keras')` or `keras.saving.save_model(model, 'my_model.keras')`. \n"
     ]
    }
   ],
   "id": "ce110000-1111-2222-3333-ffffff000008"
  },
  {
   "cell_type": "code",
   "id": "820703cb-6f07-4c7e-9ec8-52654de7b380",
   "metadata": {
    "language": "python",
    "name": "cell17"
   },
   "outputs": [],
   "source": "# Step 4: Define the version number\nversion = \"v2\"  # Increment this version number as needed",
   "execution_count": null
  },
  {
   "cell_type": "code",
   "id": "fd5bbfdb-64e7-468e-86e7-129a562eb8c0",
   "metadata": {
    "language": "python",
    "name": "cell18"
   },
   "outputs": [],
   "source": "# Upload model.h5 file to Snowflake stage\nsession.file.put(\"client_model3.h5\", f\"@client3_model_stage/{version}/\")",
   "execution_count": null
  },
  {
   "cell_type": "code",
   "source": [
    "client_model3.summary()"
   ],
   "metadata": {
    "colab": {
     "base_uri": "https://localhost:8080/",
     "height": 245
    },
    "id": "0pyI1TfVtyBz",
    "outputId": "53d11674-a8bf-4123-9661-75c5b83ceb41",
    "name": "cell10",
    "language": "python"
   },
   "execution_count": 30,
   "outputs": [
    {
     "output_type": "display_data",
     "data": {
      "text/plain": [
       "\u001b[1mModel: \"sequential_3\"\u001b[0m\n"
      ],
      "text/html": [
       "<pre style=\"white-space:pre;overflow-x:auto;line-height:normal;font-family:Menlo,'DejaVu Sans Mono',consolas,'Courier New',monospace\"><span style=\"font-weight: bold\">Model: \"sequential_3\"</span>\n",
       "</pre>\n"
      ]
     },
     "metadata": {}
    },
    {
     "output_type": "display_data",
     "data": {
      "text/plain": [
       "┏━━━━━━━━━━━━━━━━━━━━━━━━━━━━━━━━━━━━━━┳━━━━━━━━━━━━━━━━━━━━━━━━━━━━━┳━━━━━━━━━━━━━━━━━┓\n",
       "┃\u001b[1m \u001b[0m\u001b[1mLayer (type)                        \u001b[0m\u001b[1m \u001b[0m┃\u001b[1m \u001b[0m\u001b[1mOutput Shape               \u001b[0m\u001b[1m \u001b[0m┃\u001b[1m \u001b[0m\u001b[1m        Param #\u001b[0m\u001b[1m \u001b[0m┃\n",
       "┡━━━━━━━━━━━━━━━━━━━━━━━━━━━━━━━━━━━━━━╇━━━━━━━━━━━━━━━━━━━━━━━━━━━━━╇━━━━━━━━━━━━━━━━━┩\n",
       "│ dense_9 (\u001b[38;5;33mDense\u001b[0m)                      │ (\u001b[38;5;45mNone\u001b[0m, \u001b[38;5;34m64\u001b[0m)                  │             \u001b[38;5;34m896\u001b[0m │\n",
       "├──────────────────────────────────────┼─────────────────────────────┼─────────────────┤\n",
       "│ dense_10 (\u001b[38;5;33mDense\u001b[0m)                     │ (\u001b[38;5;45mNone\u001b[0m, \u001b[38;5;34m32\u001b[0m)                  │           \u001b[38;5;34m2,080\u001b[0m │\n",
       "├──────────────────────────────────────┼─────────────────────────────┼─────────────────┤\n",
       "│ dense_11 (\u001b[38;5;33mDense\u001b[0m)                     │ (\u001b[38;5;45mNone\u001b[0m, \u001b[38;5;34m5\u001b[0m)                   │             \u001b[38;5;34m165\u001b[0m │\n",
       "└──────────────────────────────────────┴─────────────────────────────┴─────────────────┘\n"
      ],
      "text/html": [
       "<pre style=\"white-space:pre;overflow-x:auto;line-height:normal;font-family:Menlo,'DejaVu Sans Mono',consolas,'Courier New',monospace\">┏━━━━━━━━━━━━━━━━━━━━━━━━━━━━━━━━━━━━━━┳━━━━━━━━━━━━━━━━━━━━━━━━━━━━━┳━━━━━━━━━━━━━━━━━┓\n",
       "┃<span style=\"font-weight: bold\"> Layer (type)                         </span>┃<span style=\"font-weight: bold\"> Output Shape                </span>┃<span style=\"font-weight: bold\">         Param # </span>┃\n",
       "┡━━━━━━━━━━━━━━━━━━━━━━━━━━━━━━━━━━━━━━╇━━━━━━━━━━━━━━━━━━━━━━━━━━━━━╇━━━━━━━━━━━━━━━━━┩\n",
       "│ dense_9 (<span style=\"color: #0087ff; text-decoration-color: #0087ff\">Dense</span>)                      │ (<span style=\"color: #00d7ff; text-decoration-color: #00d7ff\">None</span>, <span style=\"color: #00af00; text-decoration-color: #00af00\">64</span>)                  │             <span style=\"color: #00af00; text-decoration-color: #00af00\">896</span> │\n",
       "├──────────────────────────────────────┼─────────────────────────────┼─────────────────┤\n",
       "│ dense_10 (<span style=\"color: #0087ff; text-decoration-color: #0087ff\">Dense</span>)                     │ (<span style=\"color: #00d7ff; text-decoration-color: #00d7ff\">None</span>, <span style=\"color: #00af00; text-decoration-color: #00af00\">32</span>)                  │           <span style=\"color: #00af00; text-decoration-color: #00af00\">2,080</span> │\n",
       "├──────────────────────────────────────┼─────────────────────────────┼─────────────────┤\n",
       "│ dense_11 (<span style=\"color: #0087ff; text-decoration-color: #0087ff\">Dense</span>)                     │ (<span style=\"color: #00d7ff; text-decoration-color: #00d7ff\">None</span>, <span style=\"color: #00af00; text-decoration-color: #00af00\">5</span>)                   │             <span style=\"color: #00af00; text-decoration-color: #00af00\">165</span> │\n",
       "└──────────────────────────────────────┴─────────────────────────────┴─────────────────┘\n",
       "</pre>\n"
      ]
     },
     "metadata": {}
    },
    {
     "output_type": "display_data",
     "data": {
      "text/plain": [
       "\u001b[1m Total params: \u001b[0m\u001b[38;5;34m9,425\u001b[0m (36.82 KB)\n"
      ],
      "text/html": [
       "<pre style=\"white-space:pre;overflow-x:auto;line-height:normal;font-family:Menlo,'DejaVu Sans Mono',consolas,'Courier New',monospace\"><span style=\"font-weight: bold\"> Total params: </span><span style=\"color: #00af00; text-decoration-color: #00af00\">9,425</span> (36.82 KB)\n",
       "</pre>\n"
      ]
     },
     "metadata": {}
    },
    {
     "output_type": "display_data",
     "data": {
      "text/plain": [
       "\u001b[1m Trainable params: \u001b[0m\u001b[38;5;34m3,141\u001b[0m (12.27 KB)\n"
      ],
      "text/html": [
       "<pre style=\"white-space:pre;overflow-x:auto;line-height:normal;font-family:Menlo,'DejaVu Sans Mono',consolas,'Courier New',monospace\"><span style=\"font-weight: bold\"> Trainable params: </span><span style=\"color: #00af00; text-decoration-color: #00af00\">3,141</span> (12.27 KB)\n",
       "</pre>\n"
      ]
     },
     "metadata": {}
    },
    {
     "output_type": "display_data",
     "data": {
      "text/plain": [
       "\u001b[1m Non-trainable params: \u001b[0m\u001b[38;5;34m0\u001b[0m (0.00 B)\n"
      ],
      "text/html": [
       "<pre style=\"white-space:pre;overflow-x:auto;line-height:normal;font-family:Menlo,'DejaVu Sans Mono',consolas,'Courier New',monospace\"><span style=\"font-weight: bold\"> Non-trainable params: </span><span style=\"color: #00af00; text-decoration-color: #00af00\">0</span> (0.00 B)\n",
       "</pre>\n"
      ]
     },
     "metadata": {}
    },
    {
     "output_type": "display_data",
     "data": {
      "text/plain": [
       "\u001b[1m Optimizer params: \u001b[0m\u001b[38;5;34m6,284\u001b[0m (24.55 KB)\n"
      ],
      "text/html": [
       "<pre style=\"white-space:pre;overflow-x:auto;line-height:normal;font-family:Menlo,'DejaVu Sans Mono',consolas,'Courier New',monospace\"><span style=\"font-weight: bold\"> Optimizer params: </span><span style=\"color: #00af00; text-decoration-color: #00af00\">6,284</span> (24.55 KB)\n",
       "</pre>\n"
      ]
     },
     "metadata": {}
    }
   ],
   "id": "ce110000-1111-2222-3333-ffffff000009"
  },
  {
   "cell_type": "markdown",
   "source": [
    "Extracting the weights and converting them into a format that can be serialized to JSON, typically as lists of numbers since JSON does not directly support NumPy arrays"
   ],
   "metadata": {
    "id": "EiWgA66oFCiC",
    "name": "cell11"
   },
   "id": "ce110000-1111-2222-3333-ffffff000010"
  },
  {
   "cell_type": "code",
   "source": "import json\n\n# Extract the configuration of the model\nmodel_config = client_model3.get_config()\n\n# Prepare a dictionary to store the weights\nmodel_weights = {}\n\n# Iterate over each layer in the model\nfor layer in client_model3.layers:\n    weights = layer.get_weights()  # Get the weights of the current layer\n    layer_weights = []  # List to store the current layer's weights\n\n    print(f'Layer: {layer.name}')\n\n    for i, weight_array in enumerate(weights):\n        print(f\"  Weights {i+1} shape: {weight_array.shape}\")\n        print(weight_array)\n\n        # Convert each weight array to a list and append it to the layer's weights\n        layer_weights.append(weight_array.tolist())\n\n    # Add the layer's weights to the model_weights dictionary\n    model_weights[layer.name] = layer_weights\n\n# Save the weights to a JSON file\nwith open(f'model_weights3_{version}.json', 'w') as json_file:\n    json.dump(model_weights, json_file, indent=2)\n\nprint(f\"Weights have been saved to model_weights3_{version}.json\")\n",
   "metadata": {
    "colab": {
     "base_uri": "https://localhost:8080/"
    },
    "id": "8ZJktCEUt55G",
    "outputId": "19519cb1-4bc0-49a0-836a-9664397bbff6",
    "name": "cell12",
    "language": "python"
   },
   "execution_count": 31,
   "outputs": [
    {
     "output_type": "stream",
     "name": "stdout",
     "text": [
      "Layer: dense_9\n",
      "  Weights 1 shape: (13, 64)\n",
      "[[-7.03466162e-02 -1.78039402e-01 -2.78696567e-01 -2.18216076e-01\n",
      "  -4.56014723e-02 -6.71242476e-02 -5.19547723e-02 -3.83414365e-02\n",
      "  -1.91811323e-01 -3.50164771e-02 -2.37055153e-01 -1.74202442e-01\n",
      "  -2.73200274e-01 -2.60054827e-01 -1.33381099e-01 -2.72497255e-02\n",
      "  -2.77028512e-02 -1.55254483e-01 -1.87941059e-01 -2.27977812e-01\n",
      "  -2.55278707e-01 -1.05919108e-01 -1.44389436e-01  2.16524959e-01\n",
      "  -2.35065669e-01 -2.06640512e-02 -3.55256088e-02 -1.57310784e-01\n",
      "  -2.76263267e-01 -5.68962544e-02 -9.07602906e-02 -2.60363370e-02\n",
      "  -1.22241989e-01 -2.11460680e-01 -5.06384410e-02 -1.87178299e-01\n",
      "  -5.46793640e-02 -1.95825458e-01 -1.22589484e-01 -2.64532417e-01\n",
      "  -1.04323283e-01 -4.17409316e-02 -2.51366526e-01 -5.27740009e-02\n",
      "  -1.68627053e-01 -4.96200509e-02 -5.31139411e-02 -2.83313990e-02\n",
      "  -2.91056391e-02 -5.77627383e-02 -6.32716194e-02 -3.08444817e-02\n",
      "  -1.25175074e-01 -6.25638664e-02 -1.30883351e-01 -8.95926356e-02\n",
      "  -1.17426455e-01 -3.57428715e-02 -3.06106582e-02 -1.41887292e-01\n",
      "  -3.18152010e-02  4.21503596e-02 -6.40826225e-02 -2.56015360e-01]\n",
      " [ 2.49534059e+00 -1.01144361e+00 -1.24720514e-01  4.09215689e-02\n",
      "   1.76832169e-01 -2.26622909e-01  1.64783195e-01  2.38525271e+00\n",
      "  -6.12872958e-01 -2.34273687e-01 -2.54868507e-01  5.89800477e-02\n",
      "   3.84914547e-01  8.11469853e-02 -9.59401429e-02  1.61521748e-01\n",
      "   1.28538340e-01 -1.83624685e-01 -2.08136365e-01  1.91122264e-01\n",
      "   2.39982232e-01  1.47086322e-01 -3.23769748e-02 -1.90496254e+00\n",
      "   1.82064861e-01 -1.16891050e+00 -1.86732709e-01  1.25935853e+00\n",
      "  -7.25945055e-01 -3.79275233e-02 -1.61882222e+00  1.72974616e-01\n",
      "   2.56407350e-01 -7.54417479e-01 -5.34384251e-02  1.12795591e-01\n",
      "  -2.71288782e-01  3.68772447e-02 -1.24607956e+00 -2.63884664e-03\n",
      "  -4.79682624e-01 -1.36927664e-01  2.08828747e-02 -1.41796064e+00\n",
      "  -1.38308227e+00  3.45713162e+00  2.18013629e-01  1.86666489e-01\n",
      "   3.23830318e+00  3.07390869e-01 -1.00124858e-01 -2.05482364e+00\n",
      "   2.93535292e-02  2.03733802e-01  1.16955668e-01 -8.72641981e-01\n",
      "   1.80478841e-01 -6.56284034e-01  1.22430480e+00 -1.19183525e-01\n",
      "  -1.66004062e-01  4.07902050e+00 -7.25678980e-01 -1.56279266e-01]\n",
      " [ 1.36646402e+00 -1.10770333e+00  1.29453778e-01 -1.91868052e-01\n",
      "   1.02298260e-01 -2.26155818e-02 -3.16882014e-01  7.98720717e-01\n",
      "   8.33967268e-01  4.36336994e-02  1.65680200e-01  1.71249658e-01\n",
      "   2.74140000e+00  2.06977010e-01 -1.64149672e-01  1.89291716e-01\n",
      "   8.49576294e-02  4.61150706e-02  2.59989947e-02  2.14370370e-01\n",
      "   3.53351283e+00  1.26644313e-01  1.68043137e-01  3.18490243e+00\n",
      "  -5.98972738e-02 -1.04584670e+00 -1.29386711e+00  1.93383741e+00\n",
      "  -1.24561179e+00  1.56750798e-01 -8.60501602e-02 -7.65043125e-02\n",
      "   7.74386227e-02 -1.20574665e+00 -1.17242061e-01 -6.57072514e-02\n",
      "   4.89483178e-02  8.85719061e-03  1.57465982e+00  1.84370279e-01\n",
      "  -2.51722038e-01 -2.76409611e-02 -4.06916887e-02  1.27954686e+00\n",
      "  -8.56487453e-01 -1.41218388e+00  2.57325470e-02 -6.47221953e-02\n",
      "  -1.07950008e+00  9.89262238e-02 -1.19675112e+00  4.77851772e+00\n",
      "   2.00121552e-01  2.50559330e-01  1.72725618e-01 -7.20556974e-01\n",
      "   8.94774199e-02 -1.08435225e+00  9.13515329e-01 -1.65275842e-01\n",
      "   1.05760247e-01 -1.52466249e+00 -1.13053298e+00 -1.12761796e-01]\n",
      " [-6.66174591e-02  1.22430074e+00 -2.02354997e-01  8.91682506e-03\n",
      "   2.03972459e-01 -6.31060153e-02 -1.33473296e-02 -9.99600232e-01\n",
      "   7.92980969e-01 -1.36229664e-01  1.18224025e-02 -9.72838551e-02\n",
      "   3.07917800e-02  1.32972598e-01  1.67704225e-01 -4.34393659e-02\n",
      "  -2.87708104e-01  7.70701766e-02 -6.15721941e-01 -9.28652436e-02\n",
      "  -9.72434819e-01  2.57546395e-01 -2.52937853e-01 -2.11058927e+00\n",
      "   1.83027238e-01  3.81416988e+00 -1.74577594e+00 -1.48780656e+00\n",
      "   3.81517601e+00 -2.30595887e-01  1.25636590e+00 -1.73357800e-01\n",
      "   3.35694253e-02 -2.23411664e-01 -5.64278029e-02 -1.73593551e-01\n",
      "  -4.97930050e-02  3.14594805e-02  2.98455119e-01 -1.62516803e-01\n",
      "   9.87562597e-01  1.53638721e-01 -1.44301653e-02 -7.98749089e-01\n",
      "   1.51914358e+00  4.70625937e-01  2.06919998e-01 -1.30414218e-01\n",
      "  -8.43256533e-01 -2.07286775e-02  1.97525173e-01 -6.26344562e-01\n",
      "   1.50830209e-01 -2.90577948e-01 -5.68562597e-02  4.52725030e-02\n",
      "  -1.49048239e-01 -3.96979265e-02 -8.71445179e-01  1.21808857e-01\n",
      "   2.78799266e-01  2.86746240e+00 -2.79754966e-01 -9.94730741e-02]\n",
      " [ 6.08314276e-01 -5.70380330e-01  5.67867756e-02 -3.56524736e-02\n",
      "  -1.10823348e-01  1.68633759e-02  9.14662182e-02  2.15702593e-01\n",
      "   5.84765136e-01 -5.69530874e-02 -2.39570543e-01  3.34482193e-02\n",
      "   4.37457055e-01  1.66341007e-01  4.17385697e-02  2.53543526e-01\n",
      "  -2.35391125e-01  2.62114972e-01 -1.75557986e-01 -1.69681191e-01\n",
      "   1.18711483e+00  1.85803294e-01 -2.72807509e-01  9.78864372e-01\n",
      "   1.78430974e-01 -7.17096210e-01 -4.01231408e-01  4.29361254e-01\n",
      "  -2.52385139e-01  3.43680382e-04  2.85043508e-01  1.22640193e-01\n",
      "  -1.80887789e-01 -6.35648668e-01  9.11789834e-02  1.80134028e-01\n",
      "   1.15818381e-01 -1.34370014e-01  4.87490535e-01 -1.30909905e-01\n",
      "  -2.89893955e-01  2.24378079e-01  2.06369311e-01  7.52099216e-01\n",
      "  -5.73506713e-01 -3.62677336e-01  2.53323168e-01 -2.77810216e-01\n",
      "   2.49677915e-02  2.54952043e-01 -6.67193890e-01  1.01935416e-01\n",
      "   7.55420327e-03  2.47001052e-02 -2.47936040e-01 -2.24637285e-01\n",
      "   2.45926976e-02 -4.50118512e-01  3.77768129e-01 -2.03115702e-01\n",
      "   7.83732533e-02 -6.33676887e-01 -4.58843291e-01  2.09744036e-01]\n",
      " [-6.94591701e-01 -8.76507819e-01  1.46728724e-01  2.29877442e-01\n",
      "  -1.23935640e-02 -1.65876344e-01 -2.72892058e-01  2.92655319e-01\n",
      "  -2.05183601e+00  2.18838453e-04  1.95945442e-01  1.03547543e-01\n",
      "   3.82613212e-01 -1.98093787e-01 -2.61054575e-01  1.06614165e-01\n",
      "  -6.70164004e-02 -1.94575578e-01  2.65756822e+00  2.31139272e-01\n",
      "  -3.05538595e-01  2.23307639e-01 -1.69763058e-01  2.47843909e+00\n",
      "  -2.27452502e-01 -1.94385302e+00  2.61161923e+00  3.36012661e-01\n",
      "  -1.01043546e+00  1.36765808e-01 -1.02500439e+00  3.65811586e-02\n",
      "  -1.94594264e-02  1.91545391e+00 -8.31409842e-02 -2.42399573e-02\n",
      "   1.76378876e-01  2.09049493e-01 -2.46134326e-01 -1.64011389e-01\n",
      "  -7.16539383e-01  1.83667377e-01  8.45500827e-03  1.04297388e+00\n",
      "  -4.06036973e-01 -2.39306402e+00  1.14840813e-01 -2.61881918e-01\n",
      "   2.79446810e-01 -3.06563646e-01  3.06184143e-01  2.59183675e-01\n",
      "   1.88121289e-01 -7.74161965e-02 -9.43537205e-02 -9.06315207e-01\n",
      "  -7.38569945e-02  8.18781495e-01 -5.81372917e-01 -2.62730002e-01\n",
      "   1.53528035e-01 -1.97663283e+00 -1.02007449e+00  2.62384504e-01]\n",
      " [ 1.74901307e-01 -1.23551644e-01  2.25685328e-01  2.84568369e-02\n",
      "  -2.16558278e-02  3.27800810e-02  1.73763871e-01  3.95282358e-01\n",
      "   3.04310501e-01  2.23956674e-01  1.03037953e-02  4.80341911e-02\n",
      "   1.02553749e+00 -4.78533059e-02 -2.56175429e-01 -1.73157752e-01\n",
      "  -4.20027971e-02  3.05872262e-02  9.21008140e-02 -1.50597006e-01\n",
      "   1.29232848e+00  1.06384784e-01  1.88620389e-01  9.92625833e-01\n",
      "   1.14265770e-01 -1.39328778e-01 -4.51580942e-01  2.12184787e-01\n",
      "  -2.35054791e-01  2.13454664e-02  1.34377480e-01  8.59689564e-02\n",
      "   5.85509837e-02 -1.51305959e-01 -4.94156480e-02 -9.17444825e-02\n",
      "   1.97654128e-01  1.17825776e-01  2.88129240e-01  1.37057453e-01\n",
      "   9.22111571e-02 -2.16097578e-01 -9.74716097e-02  4.17224377e-01\n",
      "   7.83412308e-02 -4.43337262e-01 -9.29606110e-02  5.31868935e-02\n",
      "  -3.90366346e-01 -4.12767790e-02 -1.53536201e-01  4.83016610e-01\n",
      "   2.21348256e-01 -3.64841819e-02  2.09207535e-01 -5.12140512e-01\n",
      "  -1.24880105e-01 -2.23485336e-01  5.12645394e-02  9.31377709e-02\n",
      "   1.22495830e-01 -7.39327490e-01 -4.85520482e-01 -7.85470009e-04]\n",
      " [ 2.29016519e+00 -1.40807652e+00  2.22216278e-01 -1.41681984e-01\n",
      "   2.25275189e-01  1.12269372e-01  1.29774466e-01  8.93749475e-01\n",
      "   1.09038556e+00 -1.97076187e-01 -8.74645710e-02 -1.49932668e-01\n",
      "   2.32629585e+00 -1.65048361e-01  6.18800521e-02 -7.03704357e-02\n",
      "  -1.12909764e-01 -2.61232942e-01 -8.24929625e-02 -2.38960683e-02\n",
      "   4.12987185e+00 -1.34014755e-01  9.74946320e-02  2.43261433e+00\n",
      "   1.11714184e-01 -1.16438866e+00 -1.17292571e+00  2.51815486e+00\n",
      "  -1.68881595e+00  1.79777026e-01  3.61730337e-01 -2.64943540e-01\n",
      "   2.36548811e-01 -1.75203872e+00 -2.30973989e-01 -2.71045059e-01\n",
      "   1.22589737e-01 -4.75524813e-02  2.52287698e+00 -1.66560173e-01\n",
      "  -6.76809072e-01 -5.18964930e-03 -7.32944757e-02  6.55406356e-01\n",
      "  -1.04879260e+00 -1.20171154e+00 -3.31716001e-01  1.95660055e-01\n",
      "  -9.50880706e-01 -1.29239224e-02 -1.49211919e+00  6.41683578e-01\n",
      "   6.06457293e-02 -1.80968627e-01 -6.86654896e-02 -5.97203434e-01\n",
      "   2.42168337e-01 -1.76736188e+00  4.81007546e-01  4.11404669e-02\n",
      "   2.62463897e-01 -1.68755579e+00 -8.38390708e-01  2.17856973e-01]\n",
      " [ 2.46162462e+00 -6.39093459e-01 -1.57340169e-02  3.57370675e-02\n",
      "   1.77585691e-01  4.34442759e-02  3.02000403e-01  2.38232684e+00\n",
      "  -7.61841893e-01 -3.32023054e-02 -2.37976998e-01 -2.12014437e-01\n",
      "   1.03069156e-01  1.53544933e-01 -1.34961814e-01  1.15769669e-01\n",
      "   1.11507758e-01 -2.40630403e-01 -3.69566053e-01  1.66973263e-01\n",
      "   5.42754889e-01 -1.92839205e-02 -3.66851091e-02 -2.17262292e+00\n",
      "  -1.04028046e-01 -1.46531165e+00 -1.95730150e-01  1.69036853e+00\n",
      "  -9.33853328e-01 -8.76132548e-02 -1.80928576e+00 -1.92535356e-01\n",
      "  -1.04103729e-01 -9.21804488e-01  1.58873320e-01  9.51288640e-02\n",
      "  -6.79624230e-02  2.27774471e-01 -1.71209085e+00  7.06648231e-02\n",
      "  -3.74035537e-01 -3.13214988e-01 -1.10716403e-01 -1.50665963e+00\n",
      "  -1.09216595e+00  3.21575665e+00  1.26682863e-01  4.53670621e-02\n",
      "   2.98443508e+00 -9.94349942e-02  3.64185721e-01 -2.24553704e+00\n",
      "  -4.99318391e-02  8.54489505e-02  7.17943907e-03 -8.57432485e-01\n",
      "   1.68592989e-01 -9.52582836e-01  1.67213380e+00 -1.53163910e-01\n",
      "   2.55875438e-01  4.02414227e+00 -8.45613837e-01 -4.19681221e-02]\n",
      " [-2.20813751e+00  1.67603239e-01  2.89190710e-02  6.88873827e-02\n",
      "  -2.26068527e-01 -7.00032115e-02  1.73649982e-01 -2.22941026e-01\n",
      "  -3.97492170e-01 -9.42077637e-02  1.00477904e-01 -1.58784270e-01\n",
      "  -1.65591836e+00 -6.90708011e-02 -2.99068391e-02 -5.73214740e-02\n",
      "  -2.01691970e-01  8.77676010e-02 -8.86292577e-01 -1.16148621e-01\n",
      "  -3.62445593e+00  1.65220737e-01  5.17896116e-02  1.14809608e+00\n",
      "   1.28337950e-01 -7.29164124e-01  7.38368213e-01 -5.70816278e-01\n",
      "   1.89414740e-01 -2.52521038e-01 -1.05156600e+00 -1.67384356e-01\n",
      "   2.48444289e-01  1.70790446e+00 -7.01843202e-02  1.70803964e-02\n",
      "   6.06844127e-02  1.63625360e-01 -1.79835427e+00  1.75959855e-01\n",
      "   2.12524846e-01  6.13787472e-02 -1.32974461e-01 -3.88704181e-01\n",
      "  -8.87422860e-01  1.01095581e+00  6.37506545e-02 -7.95498490e-03\n",
      "   2.09355935e-01 -2.46755332e-01  3.98119628e-01  3.98871362e-01\n",
      "  -8.10357779e-02  1.13294989e-01  1.26515597e-01  5.53358138e-01\n",
      "  -6.02000356e-02  8.92270982e-01  2.93540716e-01  2.72129446e-01\n",
      "   1.41318679e-01  5.22101700e-01  4.44068074e-01  1.01290703e-01]\n",
      " [-3.05601215e+00  2.35663700e+00  1.37805045e-01 -1.62959710e-01\n",
      "   9.11282599e-02 -1.95719421e-01 -3.53893936e-01 -2.42338228e+00\n",
      "  -3.65673709e+00 -1.67633414e-01 -1.91270202e-01 -2.55752951e-01\n",
      "  -2.30376744e+00  7.20566511e-03 -1.36589050e-01  2.35469237e-01\n",
      "  -6.03113249e-02  2.15088218e-01  3.20790267e+00  1.02289796e-01\n",
      "  -3.67898393e+00 -7.24781305e-02  8.01621974e-02 -3.42885065e+00\n",
      "   6.84697032e-02 -1.91121674e+00  5.62003946e+00 -3.39694977e+00\n",
      "   1.73278201e+00 -1.02424622e-03 -2.39569926e+00  1.22949533e-01\n",
      "   1.72622591e-01  6.72908878e+00  2.06280425e-01 -2.69894689e-01\n",
      "   2.30300695e-01 -1.04245156e-01 -2.93447518e+00 -9.04729813e-02\n",
      "  -1.19818723e+00 -2.37614825e-01 -2.69010574e-01 -1.12098229e+00\n",
      "   1.62937367e+00 -2.18348098e+00  2.46973913e-02 -2.02308208e-01\n",
      "   2.52224684e+00 -3.90802175e-01  2.50428843e+00 -1.92523801e+00\n",
      "   2.71096259e-01 -2.51660705e-01 -3.78680974e-02  1.43405032e+00\n",
      "  -1.13472342e-02  5.34636497e+00 -3.11207581e+00 -1.45883098e-01\n",
      "  -6.28911853e-02 -1.23100853e+00  7.42015719e-01  1.94252253e-01]\n",
      " [ 3.87136245e+00 -1.97698677e+00 -1.07329905e-01  1.46189630e-01\n",
      "  -1.15267590e-01  1.97510719e-02 -2.51703002e-02  1.83921885e+00\n",
      "   2.26586032e+00  8.39433074e-02 -8.04904997e-02  2.05342531e-01\n",
      "   5.89931107e+00  2.02501297e-01 -6.34345263e-02  1.89771622e-01\n",
      "  -2.38244385e-02 -2.30881572e-03 -3.13859880e-01  1.51165366e-01\n",
      "   6.88055325e+00  2.01474965e-01 -1.88318014e-01  6.46721125e+00\n",
      "   8.01668465e-02 -1.63820565e+00 -2.34916377e+00  4.53525448e+00\n",
      "  -2.22182202e+00  2.57249802e-01  9.39139247e-01 -8.53769630e-02\n",
      "  -2.06180423e-01 -2.12356496e+00 -1.12241477e-01  9.70599055e-02\n",
      "  -6.53515309e-02 -2.71950513e-01  3.52009487e+00 -2.66853333e-01\n",
      "  -4.85614300e-01  2.33030379e-01 -1.13289356e-01  1.65862644e+00\n",
      "  -1.53317106e+00 -1.97136676e+00 -8.42689052e-02 -2.38769233e-01\n",
      "  -1.61731613e+00 -1.03700660e-01 -2.26036739e+00  2.24603868e+00\n",
      "  -1.28398120e-01  9.49022323e-02  1.06401950e-01 -2.11430144e+00\n",
      "  -1.55368492e-01 -2.47825789e+00  1.60010433e+00 -2.50397593e-01\n",
      "  -1.49353147e-02 -2.39108300e+00 -2.45956516e+00  1.59195453e-01]\n",
      " [ 4.97795865e-02  1.68629324e+00 -2.04530627e-01 -5.59144616e-02\n",
      "   1.52603447e-01  2.54121035e-01 -3.20669502e-01 -5.89669883e-01\n",
      "   5.07383585e-01  3.38871479e-02  1.67759150e-01 -4.86902744e-02\n",
      "   2.79926714e-02  2.59500444e-02 -3.49176526e-02 -2.98991144e-01\n",
      "  -1.14936732e-01 -2.39104137e-01 -5.29825211e-01 -1.36342660e-01\n",
      "  -7.45482147e-01 -9.39076096e-02 -2.71784186e-01 -2.32086515e+00\n",
      "  -2.18662530e-01  3.60504198e+00 -1.55803585e+00 -1.36468530e+00\n",
      "   3.92313576e+00  2.23378986e-01  1.47573304e+00 -2.47097407e-02\n",
      "  -1.13248900e-01  2.45986342e-01  5.13018528e-03  2.15285122e-01\n",
      "  -4.29294854e-02  2.77373642e-01  4.62974489e-01 -1.21341124e-01\n",
      "   1.32262623e+00  6.66696504e-02 -5.54469824e-02 -6.80311263e-01\n",
      "   1.49985218e+00  4.54573870e-01  2.25335315e-01  1.07989311e-01\n",
      "  -7.28805363e-01 -1.90967321e-01  6.51946306e-01 -8.40845168e-01\n",
      "  -1.02952808e-01  6.38386533e-02  2.40756273e-02  7.69947618e-02\n",
      "  -4.78990972e-02  1.40747145e-01 -9.64875281e-01  3.00982594e-02\n",
      "  -1.18317068e-01  3.28329921e+00 -3.68045717e-01 -1.56396940e-01]]\n",
      "  Weights 2 shape: (64,)\n",
      "[ 0.03442892  0.8127111   0.          0.          0.          0.\n",
      " -0.18602562 -0.34292004 -0.77590096  0.          0.          0.\n",
      "  0.7546619   0.          0.         -0.03687908 -0.03932411  0.\n",
      "  0.29153815  0.          0.01607461  0.          0.         -0.0533001\n",
      "  0.          2.098312   -0.06435116 -0.8991638   2.2065828   0.\n",
      "  0.18889244 -0.03167979  0.          1.1725764  -0.08048629  0.\n",
      "  0.          0.          0.21245769  0.          0.54485244 -0.10808179\n",
      "  0.         -0.5455624   1.0049397   0.14773868 -0.04780956  0.\n",
      " -0.27545822 -0.08456344  0.2990526  -0.9414643   0.         -0.08792478\n",
      "  0.         -0.39826223  0.          0.67407674 -0.80205506  0.\n",
      "  0.          2.305942   -0.9323608   0.        ]\n",
      "Layer: dense_10\n",
      "  Weights 1 shape: (64, 32)\n",
      "[[ 6.10796809e-02 -4.60567027e-01 -1.35269821e-01 ... -1.54797360e-01\n",
      "   4.41528082e+00  1.51284650e-01]\n",
      " [ 1.65349111e-01 -6.64548129e-02 -1.28461897e-01 ...  6.15523197e-02\n",
      "  -6.08176589e-02 -1.52170584e-01]\n",
      " [-7.83293247e-02 -2.13956535e-01  1.95876122e-01 ...  7.72916079e-02\n",
      "   5.11380434e-02 -3.95365357e-02]\n",
      " ...\n",
      " [-1.27063423e-01  9.40833688e-02 -1.78666517e-01 ...  1.46331871e-03\n",
      "   7.16663122e-01 -1.54288739e-01]\n",
      " [-2.79272646e-01 -2.97867507e-01  1.10028714e-01 ... -3.28724802e-01\n",
      "   1.62997067e-01 -2.18724385e-01]\n",
      " [-2.09684789e-01 -1.15670860e-01 -1.08312368e-02 ...  1.63261890e-01\n",
      "  -9.56556797e-02 -2.17735767e-04]]\n",
      "  Weights 2 shape: (32,)\n",
      "[ 0.38457984 -0.27576274  0.2055231  -0.09856531 -0.37699598  0.09803051\n",
      "  0.8538731  -0.1903537   1.8468999   1.5130901   0.03379698  0.03386398\n",
      " -0.13765807 -0.13875578 -0.49030775 -0.03812683 -0.13183019  1.8372605\n",
      " -0.31174907  0.11921979  0.20870948 -0.5399996   1.5500108  -0.10402334\n",
      "  0.97245216 -0.43067694 -0.29348457 -0.04125906  0.41786858 -0.12419827\n",
      "  1.5253687   0.0278907 ]\n",
      "Layer: dense_11\n",
      "  Weights 1 shape: (32, 5)\n",
      "[[-5.03496885e+00 -1.32549357e+00  1.60441115e-01  2.84563988e-01\n",
      "  -2.56178498e-01]\n",
      " [ 1.86540872e-01  8.08032975e-03  3.13878447e-01  1.17269322e-01\n",
      "   9.08843651e-02]\n",
      " [-3.30693990e-01 -2.54443109e-01  1.69532746e-02 -2.96423733e-01\n",
      "  -1.96790695e-01]\n",
      " [ 2.08148554e-01  4.05973822e-01 -4.78114069e-01  2.03008085e-01\n",
      "  -2.11698040e-01]\n",
      " [-2.40017548e-01  1.59240529e-01  2.08239645e-01  2.38715544e-01\n",
      "   2.69149691e-01]\n",
      " [-6.15465567e-02  4.32082981e-01  7.55804032e-02 -2.32274145e-01\n",
      "   1.02581099e-01]\n",
      " [-1.19206774e+00 -9.84158069e-02  3.00159037e-01 -4.00272198e-02\n",
      "  -7.45152175e-01]\n",
      " [-4.23375160e-01  3.18204463e-01  2.71467656e-01  2.34693140e-01\n",
      "  -1.88589364e-01]\n",
      " [ 4.78455335e-01  6.03761300e-02  1.35565355e-01 -2.26128772e-01\n",
      "   1.06174089e-01]\n",
      " [-7.77384937e-01  3.35092396e-01  4.84773934e-01  1.89287052e-01\n",
      "   4.28486690e-02]\n",
      " [-1.96110740e-01  1.19146213e-01  1.88322857e-01 -1.50200278e-01\n",
      "   7.91431218e-02]\n",
      " [ 1.68415618e+00 -4.45118435e-02 -1.15733147e-01  1.18635096e-01\n",
      "  -1.76795602e-01]\n",
      " [-2.48133615e-02 -3.38870317e-01  3.43257189e-01  1.97966695e-01\n",
      "  -2.65003532e-01]\n",
      " [ 1.46118954e-01  6.17938861e-02  2.72230893e-01  1.36110097e-01\n",
      "   2.24365555e-02]\n",
      " [ 7.81897008e-02 -2.31293797e-01  4.29981828e-01  1.22556305e-02\n",
      "   3.71478871e-02]\n",
      " [-2.06406936e-01  3.03252846e-01  2.80824065e-01  3.11620891e-01\n",
      "   2.99763978e-01]\n",
      " [ 4.19887342e-02 -8.87868628e-02 -2.60941335e-03  2.95510620e-01\n",
      "  -1.98515490e-01]\n",
      " [ 1.98285859e-02  1.59530953e-01  2.60097235e-01 -3.55768465e-02\n",
      "   7.18322515e-01]\n",
      " [-1.06632352e+00 -1.89762890e-01 -1.49380431e-01 -6.10921323e-01\n",
      "   1.87040612e-01]\n",
      " [-4.44372982e-01  2.05802545e-01  8.22271630e-02 -2.34902218e-01\n",
      "  -9.73657984e-03]\n",
      " [-1.44509137e+00 -4.45364505e-01 -1.08685696e+00 -1.97909951e-01\n",
      "  -4.52966541e-01]\n",
      " [-9.54185426e-01 -6.31543636e-01 -8.53354931e-01  5.09791374e-01\n",
      "  -7.18173802e-01]\n",
      " [-4.73403513e-01  3.83659840e-01 -6.24354482e-01  4.03603822e-01\n",
      "  -4.30415988e-01]\n",
      " [ 2.81099528e-01  4.91594486e-02  2.42905706e-01  2.06568554e-01\n",
      "   1.62218630e-01]\n",
      " [-2.62750357e-01  2.71315813e-01 -4.77297664e-01  2.42505044e-01\n",
      "   3.34461480e-01]\n",
      " [-3.18853945e-01 -1.59538895e-01 -6.35232210e-01 -4.83187914e-01\n",
      "  -3.38100612e-01]\n",
      " [-3.43152237e+00  5.20374160e-03  7.50902146e-02 -5.23826554e-02\n",
      "  -3.72014120e-02]\n",
      " [ 4.18024957e-01 -9.98274833e-02 -3.40367734e-01  2.94101089e-01\n",
      "  -6.34568185e-02]\n",
      " [ 3.56312424e-01  8.71507600e-02 -2.70477176e-01  2.34709736e-02\n",
      "   3.47451508e-01]\n",
      " [-2.97809869e-01  9.50274169e-02  1.24440514e-01  7.82847852e-02\n",
      "  -1.18766338e-01]\n",
      " [ 1.78141069e+00 -3.07338864e-01 -1.56346262e+00  4.04649489e-02\n",
      "   1.34248972e+00]\n",
      " [ 1.32690996e-01  2.76382208e-01 -1.82827059e-02 -1.97084069e-01\n",
      "   5.82925081e-02]]\n",
      "  Weights 2 shape: (5,)\n",
      "[-0.41687402 -2.4002297   0.80803573  1.1330409  -0.18651977]\n",
      "Weights have been saved to model_weights.json\n"
     ]
    }
   ],
   "id": "ce110000-1111-2222-3333-ffffff000011"
  },
  {
   "cell_type": "code",
   "id": "0ae34b45-e58a-408b-b23d-988aa7594f16",
   "metadata": {
    "language": "python",
    "name": "cell19"
   },
   "outputs": [],
   "source": "# Upload model weights JSON file to Snowflake stage\nsession.file.put(f\"model_weights3_{version}.json\", f\"@client3_model_stage/{version}/\")",
   "execution_count": null
  },
  {
   "cell_type": "code",
   "source": [
    "y_pred_prob=client_model3.predict(x_test)\n",
    "# For sparse categorical crossentropy, we need to use argmax to get class labels\n",
    "y_pred = np.argmax(y_pred_prob, axis=1)\n",
    "from sklearn.preprocessing import label_binarize\n",
    "n_classes=y_pred_prob.shape[1]\n",
    "y1_test_binarized=label_binarize(y_test,classes=np.arange(n_classes))\n",
    "\n",
    "from sklearn.metrics import roc_curve, auc\n",
    "import matplotlib.pyplot as plt\n",
    "fpr=dict()\n",
    "tpr=dict()\n",
    "roc_auc=dict()\n",
    "\n",
    "for i in range(n_classes):\n",
    "    fpr[i],tpr[i],_=roc_curve(y1_test_binarized[:,i],y_pred_prob[:,i])\n",
    "    roc_auc[i]=auc(fpr[i],tpr[i])\n",
    "\n",
    "plt.figure()\n",
    "for i in range(n_classes):\n",
    "    plt.plot(fpr[i],tpr[i],label=f'class {i} (AUC={roc_auc[i]:0.2f})')\n",
    "\n",
    "plt.plot([0, 1], [0, 1], 'k--')\n",
    "plt.xlim([0.0, 1.0])\n",
    "plt.ylim([0.0, 1.05])\n",
    "plt.xlabel('False Positive Rate')\n",
    "plt.ylabel('True Positive Rate')\n",
    "plt.title('Receiver Operating Characteristic for Multi-Class')\n",
    "plt.legend(loc='lower right')\n",
    "plt.show()"
   ],
   "metadata": {
    "colab": {
     "base_uri": "https://localhost:8080/",
     "height": 490
    },
    "id": "s0zzo-7CuCvF",
    "outputId": "feffaa71-7974-4867-d636-ea918b76ca32",
    "name": "cell13",
    "language": "python"
   },
   "execution_count": 32,
   "outputs": [
    {
     "output_type": "stream",
     "name": "stdout",
     "text": [
      "\u001b[1m105/105\u001b[0m \u001b[32m━━━━━━━━━━━━━━━━━━━━\u001b[0m\u001b[37m\u001b[0m \u001b[1m0s\u001b[0m 2ms/step\n"
     ]
    },
    {
     "output_type": "display_data",
     "data": {
      "text/plain": [
       "<Figure size 640x480 with 1 Axes>"
      ],
      "image/png": "[encoded data removed]"
     },
     "metadata": {}
    }
   ],
   "id": "ce110000-1111-2222-3333-ffffff000012"
  },
  {
   "cell_type": "code",
   "source": [
    "# Ensure y_test is in multiclass format (if it was one-hot encoded)\n",
    "if y_test.ndim > 1 and y_test.shape[1] > 1:\n",
    "    y_test = np.argmax(y_test, axis=1)\n",
    "\n",
    "# Ensure y_pred is in multiclass format (if it was one-hot encoded)\n",
    "if y_pred.ndim > 1 and y_pred.shape[1] > 1:\n",
    "    y_pred = np.argmax(y_pred, axis=1)\n",
    "\n",
    "# Generate the confusion matrix\n",
    "conf_matrix = confusion_matrix(y_test, y_pred)\n",
    "\n",
    "# Generate a classification report\n",
    "class_report = classification_report(y_test, y_pred, target_names=[f'Class {i}' for i in range(5)], zero_division=0)\n",
    "\n",
    "conf_matrix, class_report"
   ],
   "metadata": {
    "colab": {
     "base_uri": "https://localhost:8080/"
    },
    "id": "qLKLyzpWuRJJ",
    "outputId": "2801af8b-4517-4db6-8c5a-36840ca60a4a",
    "name": "cell14",
    "language": "python"
   },
   "execution_count": 33,
   "outputs": [
    {
     "output_type": "execute_result",
     "data": {
      "text/plain": [
       "(array([[  71,    0,    0,    0,    0],\n",
       "        [   0,    0,    0,   18,    0],\n",
       "        [   0,    0,  198,    0,    0],\n",
       "        [   0,    0,    0,  711,    0],\n",
       "        [   0,    0,    0,    2, 2336]]),\n",
       " '              precision    recall  f1-score   support\\n\\n     Class 0       1.00      1.00      1.00        71\\n     Class 1       0.00      0.00      0.00        18\\n     Class 2       1.00      1.00      1.00       198\\n     Class 3       0.97      1.00      0.99       711\\n     Class 4       1.00      1.00      1.00      2338\\n\\n    accuracy                           0.99      3336\\n   macro avg       0.79      0.80      0.80      3336\\nweighted avg       0.99      0.99      0.99      3336\\n')"
      ]
     },
     "metadata": {},
     "execution_count": 33
    }
   ],
   "id": "ce110000-1111-2222-3333-ffffff000013"
  },
  {
   "cell_type": "code",
   "source": [
    "\n",
    "import seaborn as sns\n",
    "# Plot confusion matrix\n",
    "plt.figure(figsize=(4, 2))\n",
    "sns.heatmap(conf_matrix, annot=True, fmt='d', cmap='Blues', cbar=False,\n",
    "            xticklabels=[f'Class {i}' for i in range(n_classes)],\n",
    "            yticklabels=[f'Class {i}' for i in range(n_classes)])\n",
    "plt.xlabel('Predicted Label')\n",
    "plt.ylabel('True Label')\n",
    "plt.title('Confusion Matrix')\n",
    "plt.show()"
   ],
   "metadata": {
    "colab": {
     "base_uri": "https://localhost:8080/",
     "height": 256
    },
    "id": "-nL0iwMguV2Q",
    "outputId": "7f60a769-7968-491f-8187-0c7e9fc0f5bc",
    "name": "cell15",
    "language": "python"
   },
   "execution_count": 34,
   "outputs": [
    {
     "output_type": "display_data",
     "data": {
      "text/plain": [
       "<Figure size 400x200 with 1 Axes>"
      ],
      "image/png": "[encoded data removed]"
     },
     "metadata": {}
    }
   ],
   "id": "ce110000-1111-2222-3333-ffffff000014"
  },
  {
   "cell_type": "code",
   "source": "# Calculate evaluation metrics\naccuracy = accuracy_score(y_test, y_pred)\nprecision = precision_score(y_test, y_pred, average='weighted',zero_division=1)\nrecall = recall_score(y_test, y_pred, average='weighted')\nf1 = f1_score(y_test, y_pred, average='weighted')\n\n# Print evaluation metrics\nprint(f\"Accuracy: {accuracy:.4f}\")\nprint(f\"Precision: {precision:.4f}\")\nprint(f\"Recall: {recall:.4f}\")\nprint(f\"F1 Score: {f1:.4f}\")",
   "metadata": {
    "colab": {
     "base_uri": "https://localhost:8080/"
    },
    "id": "WUBAqg_XuZqy",
    "outputId": "bfb7f1fb-f52e-4dfa-e3ee-b2175f5e60e3",
    "name": "cell16",
    "language": "python"
   },
   "execution_count": 35,
   "outputs": [
    {
     "output_type": "stream",
     "name": "stdout",
     "text": [
      "Accuracy: 0.9940\n",
      "Precision: 0.9888\n",
      "Recall: 0.9940\n",
      "F1 Score: 0.9913\n"
     ]
    },
    {
     "output_type": "stream",
     "name": "stderr",
     "text": [
      "/usr/local/lib/python3.10/dist-packages/sklearn/metrics/_classification.py:1471: UndefinedMetricWarning: Precision is ill-defined and being set to 0.0 in labels with no predicted samples. Use `zero_division` parameter to control this behavior.\n",
      "  _warn_prf(average, modifier, msg_start, len(result))\n"
     ]
    }
   ],
   "id": "ce110000-1111-2222-3333-ffffff000015"
  }
 ]
}